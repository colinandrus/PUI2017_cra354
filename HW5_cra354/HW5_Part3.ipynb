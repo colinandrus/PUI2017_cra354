{
 "cells": [
  {
   "cell_type": "markdown",
   "metadata": {
    "toc": "true"
   },
   "source": [
    "# Table of Contents\n",
    " <p><div class=\"lev1 toc-item\"><a href=\"#DATA:\" data-toc-modified-id=\"DATA:-1\"><span class=\"toc-item-num\">1&nbsp;&nbsp;</span>DATA:</a></div><div class=\"lev1 toc-item\"><a href=\"#exploration\" data-toc-modified-id=\"exploration-2\"><span class=\"toc-item-num\">2&nbsp;&nbsp;</span>exploration</a></div><div class=\"lev2 toc-item\"><a href=\"#plot-mass-shooting-vs-gdp-in-absolute-numbers,-and-per-person.-Show-the-errorbars-(y-errors)\" data-toc-modified-id=\"plot-mass-shooting-vs-gdp-in-absolute-numbers,-and-per-person.-Show-the-errorbars-(y-errors)-21\"><span class=\"toc-item-num\">2.1&nbsp;&nbsp;</span>plot mass shooting vs gdp in absolute numbers, and per person. Show the errorbars (y errors)</a></div><div class=\"lev2 toc-item\"><a href=\"#plot-the-average-number-of-civilian-fire-arms-per-person\" data-toc-modified-id=\"plot-the-average-number-of-civilian-fire-arms-per-person-22\"><span class=\"toc-item-num\">2.2&nbsp;&nbsp;</span>plot the average number of civilian fire arms per person</a></div><div class=\"lev2 toc-item\"><a href=\"#plot-the-average-number-of-homicide-by-fire-arms-per-person\" data-toc-modified-id=\"plot-the-average-number-of-homicide-by-fire-arms-per-person-23\"><span class=\"toc-item-num\">2.3&nbsp;&nbsp;</span>plot the average number of homicide by fire arms per person</a></div><div class=\"lev2 toc-item\"><a href=\"#plot-the-number-of--homicides-by-fire-arm-against-the-number-of-civilian-firearms.-plot-the--US-in-a-different-color\" data-toc-modified-id=\"plot-the-number-of--homicides-by-fire-arm-against-the-number-of-civilian-firearms.-plot-the--US-in-a-different-color-24\"><span class=\"toc-item-num\">2.4&nbsp;&nbsp;</span>plot the number of  homicides by fire arm against the number of civilian firearms. plot the  US in a different color</a></div><div class=\"lev2 toc-item\"><a href=\"#plot-the-number-of--mass-shootings-against-the-number-of-civilian-firearms.-plot-the--US-in-a-different-color\" data-toc-modified-id=\"plot-the-number-of--mass-shootings-against-the-number-of-civilian-firearms.-plot-the--US-in-a-different-color-25\"><span class=\"toc-item-num\">2.5&nbsp;&nbsp;</span>plot the number of  mass shootings against the number of civilian firearms. plot the  US in a different color</a></div><div class=\"lev1 toc-item\"><a href=\"#Modeling\" data-toc-modified-id=\"Modeling-3\"><span class=\"toc-item-num\">3&nbsp;&nbsp;</span>Modeling</a></div><div class=\"lev2 toc-item\"><a href=\"#fit-a-line-to-the-Number-of-mass-shootings--per-person-as-a-function-of-Average-total-all-civilian-firearms-per-person.\" data-toc-modified-id=\"fit-a-line-to-the-Number-of-mass-shootings--per-person-as-a-function-of-Average-total-all-civilian-firearms-per-person.-31\"><span class=\"toc-item-num\">3.1&nbsp;&nbsp;</span>fit a line to the Number of mass shootings  per person as a function of Average total all civilian firearms per person.</a></div><div class=\"lev2 toc-item\"><a href=\"#Extra-credit:-calculate-the-confidence-interval-by-hand-and-also-plot-them\" data-toc-modified-id=\"Extra-credit:-calculate-the-confidence-interval-by-hand-and-also-plot-them-32\"><span class=\"toc-item-num\">3.2&nbsp;&nbsp;</span>Extra credit: calculate the confidence interval by hand and also plot them</a></div><div class=\"lev2 toc-item\"><a href=\"#Use-the-stsatsmodels.gaphics-package-to-plot-the-influence-plot.\" data-toc-modified-id=\"Use-the-stsatsmodels.gaphics-package-to-plot-the-influence-plot.-33\"><span class=\"toc-item-num\">3.3&nbsp;&nbsp;</span>Use the stsatsmodels.gaphics package to plot the influence plot.</a></div><div class=\"lev2 toc-item\"><a href=\"#Extra-credit:-calculate-from-scratch-the-stanrdardized-residuals-and-the-H-leverage-for-the-WLS-model-and-discuss-if-there-are-any-differences\" data-toc-modified-id=\"Extra-credit:-calculate-from-scratch-the-stanrdardized-residuals-and-the-H-leverage-for-the-WLS-model-and-discuss-if-there-are-any-differences-34\"><span class=\"toc-item-num\">3.4&nbsp;&nbsp;</span>Extra credit: calculate from scratch the stanrdardized residuals and the H leverage for the WLS model and discuss if there are any differences</a></div><div class=\"lev2 toc-item\"><a href=\"#Discuss-your-findings\" data-toc-modified-id=\"Discuss-your-findings-35\"><span class=\"toc-item-num\">3.5&nbsp;&nbsp;</span>Discuss your findings</a></div>"
   ]
  },
  {
   "cell_type": "markdown",
   "metadata": {},
   "source": [
    "**regression exercise**\n",
    "\n",
    "**written by Federica B Bianco CUSP 2017**\n",
    "\n",
    "**for PUI lecture on models and linear regression**"
   ]
  },
  {
   "cell_type": "markdown",
   "metadata": {},
   "source": [
    "**investigate linear relationships between fire arm possession, homicides by fire arms, and mass shootings for different countries, considering also the country GDP**"
   ]
  },
  {
   "cell_type": "markdown",
   "metadata": {},
   "source": [
    "# DATA: \n",
    "\n",
    "The Guardian firearms murders and ownership data. The relevans sheet is uploaded in the github repository as a csv file. Download it from there. Note: this dataset is from 2012.\n",
    "\n",
    "**Extra credit**: download directly from google docs with a google API\n",
    "\n",
    "https://docs.google.com/spreadsheets/d/1chqUZHuY6cXYrRYkuE0uwXisGaYvr7durZHJhpLGycs/edit#gid=0\n",
    "\n",
    "Number of mass shootings: find the link here https://datawrapper.dwcdn.net/pvLFI/4/\n",
    "\n",
    "The world population by country find the download link here :\n",
    "https://data.worldbank.org/indicator/SP.POP.TOTL\n",
    "\n",
    "Remember that all read or downloads have to me reproducible.\n",
    "\n",
    "Merge all datasets. After throwing away the irrelevant data it should look something like this (I renamed the GDP and the population as gdp\" and \"pop\")\n",
    "\n",
    "Throughout, when I ask you to include errors in plots or models, use Poisson statistics: the error is the square root of the number you are considering (e.g. this country has N fire arms +/- square root of N, or this country has Np [= N/population +/- (square root of N) / population] fire arms per person)."
   ]
  },
  {
   "cell_type": "code",
   "execution_count": 58,
   "metadata": {},
   "outputs": [
    {
     "name": "stdout",
     "output_type": "stream",
     "text": [
      "Populating the interactive namespace from numpy and matplotlib\n"
     ]
    }
   ],
   "source": [
    "import numpy as np\n",
    "import pandas as pd\n",
    "import io\n",
    "import requests\n",
    "import pylab as pl\n",
    "% pylab inline"
   ]
  },
  {
   "cell_type": "code",
   "execution_count": 13,
   "metadata": {},
   "outputs": [
    {
     "data": {
      "text/html": [
       "<div>\n",
       "<style>\n",
       "    .dataframe thead tr:only-child th {\n",
       "        text-align: right;\n",
       "    }\n",
       "\n",
       "    .dataframe thead th {\n",
       "        text-align: left;\n",
       "    }\n",
       "\n",
       "    .dataframe tbody tr th {\n",
       "        vertical-align: top;\n",
       "    }\n",
       "</style>\n",
       "<table border=\"1\" class=\"dataframe\">\n",
       "  <thead>\n",
       "    <tr style=\"text-align: right;\">\n",
       "      <th></th>\n",
       "      <th>Country/Territory</th>\n",
       "      <th>ISO code</th>\n",
       "      <th>Source</th>\n",
       "      <th>% of homicides by firearm</th>\n",
       "      <th>Number of homicides by firearm</th>\n",
       "      <th>Homicide by firearm rate per 100,000 pop</th>\n",
       "      <th>Rank by rate of ownership</th>\n",
       "      <th>Average firearms per 100 people</th>\n",
       "      <th>Average total all civilian firearms</th>\n",
       "    </tr>\n",
       "  </thead>\n",
       "  <tbody>\n",
       "    <tr>\n",
       "      <th>0</th>\n",
       "      <td>Albania</td>\n",
       "      <td>AL</td>\n",
       "      <td>CTS</td>\n",
       "      <td>65.9</td>\n",
       "      <td>56.0</td>\n",
       "      <td>1.76</td>\n",
       "      <td>70.0</td>\n",
       "      <td>8.6</td>\n",
       "      <td>270000.0</td>\n",
       "    </tr>\n",
       "    <tr>\n",
       "      <th>1</th>\n",
       "      <td>Algeria</td>\n",
       "      <td>DZ</td>\n",
       "      <td>CTS</td>\n",
       "      <td>4.8</td>\n",
       "      <td>20.0</td>\n",
       "      <td>0.06</td>\n",
       "      <td>78.0</td>\n",
       "      <td>7.6</td>\n",
       "      <td>1900000.0</td>\n",
       "    </tr>\n",
       "    <tr>\n",
       "      <th>2</th>\n",
       "      <td>Angola</td>\n",
       "      <td>AO</td>\n",
       "      <td>NaN</td>\n",
       "      <td>NaN</td>\n",
       "      <td>NaN</td>\n",
       "      <td>NaN</td>\n",
       "      <td>34.0</td>\n",
       "      <td>17.3</td>\n",
       "      <td>2800000.0</td>\n",
       "    </tr>\n",
       "    <tr>\n",
       "      <th>3</th>\n",
       "      <td>Anguilla</td>\n",
       "      <td>AI</td>\n",
       "      <td>WHO-MDB</td>\n",
       "      <td>24.0</td>\n",
       "      <td>1.0</td>\n",
       "      <td>7.14</td>\n",
       "      <td>NaN</td>\n",
       "      <td>NaN</td>\n",
       "      <td>NaN</td>\n",
       "    </tr>\n",
       "    <tr>\n",
       "      <th>4</th>\n",
       "      <td>Argentina</td>\n",
       "      <td>AR</td>\n",
       "      <td>Ministry of Justice</td>\n",
       "      <td>52.0</td>\n",
       "      <td>1198.0</td>\n",
       "      <td>3.02</td>\n",
       "      <td>62.0</td>\n",
       "      <td>10.2</td>\n",
       "      <td>3950000.0</td>\n",
       "    </tr>\n",
       "  </tbody>\n",
       "</table>\n",
       "</div>"
      ],
      "text/plain": [
       "  Country/Territory ISO code               Source  % of homicides by firearm  \\\n",
       "0           Albania       AL                  CTS                       65.9   \n",
       "1           Algeria       DZ                  CTS                        4.8   \n",
       "2            Angola       AO                  NaN                        NaN   \n",
       "3          Anguilla       AI              WHO-MDB                       24.0   \n",
       "4         Argentina       AR  Ministry of Justice                       52.0   \n",
       "\n",
       "   Number of homicides by firearm  Homicide by firearm rate per 100,000 pop  \\\n",
       "0                            56.0                                      1.76   \n",
       "1                            20.0                                      0.06   \n",
       "2                             NaN                                       NaN   \n",
       "3                             1.0                                      7.14   \n",
       "4                          1198.0                                      3.02   \n",
       "\n",
       "   Rank by rate of ownership  Average firearms per 100 people  \\\n",
       "0                       70.0                              8.6   \n",
       "1                       78.0                              7.6   \n",
       "2                       34.0                             17.3   \n",
       "3                        NaN                              NaN   \n",
       "4                       62.0                             10.2   \n",
       "\n",
       "   Average total all civilian firearms  \n",
       "0                             270000.0  \n",
       "1                            1900000.0  \n",
       "2                            2800000.0  \n",
       "3                                  NaN  \n",
       "4                            3950000.0  "
      ]
     },
     "execution_count": 13,
     "metadata": {},
     "output_type": "execute_result"
    }
   ],
   "source": [
    "url = 'http://raw.githubusercontent.com/fedhere/PUI2017_fb55/master/HW5_fb55/World%20firearms%20murders%20and%20ownership%20-%20Sheet%201.csv'\n",
    "s=requests.get(url).content\n",
    "df1 = pd.read_csv(io.StringIO(s.decode('utf-8')))\n",
    "df1.head()"
   ]
  },
  {
   "cell_type": "code",
   "execution_count": 19,
   "metadata": {},
   "outputs": [
    {
     "data": {
      "text/html": [
       "<div>\n",
       "<style>\n",
       "    .dataframe thead tr:only-child th {\n",
       "        text-align: right;\n",
       "    }\n",
       "\n",
       "    .dataframe thead th {\n",
       "        text-align: left;\n",
       "    }\n",
       "\n",
       "    .dataframe tbody tr th {\n",
       "        vertical-align: top;\n",
       "    }\n",
       "</style>\n",
       "<table border=\"1\" class=\"dataframe\">\n",
       "  <thead>\n",
       "    <tr style=\"text-align: right;\">\n",
       "      <th></th>\n",
       "      <th>Country Name</th>\n",
       "      <th>Country Code</th>\n",
       "      <th>Indicator Name</th>\n",
       "      <th>Indicator Code</th>\n",
       "      <th>1960</th>\n",
       "      <th>1961</th>\n",
       "      <th>1962</th>\n",
       "      <th>1963</th>\n",
       "      <th>1964</th>\n",
       "      <th>1965</th>\n",
       "      <th>...</th>\n",
       "      <th>2008</th>\n",
       "      <th>2009</th>\n",
       "      <th>2010</th>\n",
       "      <th>2011</th>\n",
       "      <th>2012</th>\n",
       "      <th>2013</th>\n",
       "      <th>2014</th>\n",
       "      <th>2015</th>\n",
       "      <th>2016</th>\n",
       "      <th>Unnamed: 61</th>\n",
       "    </tr>\n",
       "  </thead>\n",
       "  <tbody>\n",
       "    <tr>\n",
       "      <th>0</th>\n",
       "      <td>Aruba</td>\n",
       "      <td>ABW</td>\n",
       "      <td>Population, total</td>\n",
       "      <td>SP.POP.TOTL</td>\n",
       "      <td>54211.0</td>\n",
       "      <td>55438.0</td>\n",
       "      <td>56225.0</td>\n",
       "      <td>56695.0</td>\n",
       "      <td>57032.0</td>\n",
       "      <td>57360.0</td>\n",
       "      <td>...</td>\n",
       "      <td>101353.0</td>\n",
       "      <td>101453.0</td>\n",
       "      <td>101669.0</td>\n",
       "      <td>102053.0</td>\n",
       "      <td>102577.0</td>\n",
       "      <td>103187.0</td>\n",
       "      <td>103795.0</td>\n",
       "      <td>104341.0</td>\n",
       "      <td>104822.0</td>\n",
       "      <td>NaN</td>\n",
       "    </tr>\n",
       "    <tr>\n",
       "      <th>1</th>\n",
       "      <td>Afghanistan</td>\n",
       "      <td>AFG</td>\n",
       "      <td>Population, total</td>\n",
       "      <td>SP.POP.TOTL</td>\n",
       "      <td>8996351.0</td>\n",
       "      <td>9166764.0</td>\n",
       "      <td>9345868.0</td>\n",
       "      <td>9533954.0</td>\n",
       "      <td>9731361.0</td>\n",
       "      <td>9938414.0</td>\n",
       "      <td>...</td>\n",
       "      <td>27294031.0</td>\n",
       "      <td>28004331.0</td>\n",
       "      <td>28803167.0</td>\n",
       "      <td>29708599.0</td>\n",
       "      <td>30696958.0</td>\n",
       "      <td>31731688.0</td>\n",
       "      <td>32758020.0</td>\n",
       "      <td>33736494.0</td>\n",
       "      <td>34656032.0</td>\n",
       "      <td>NaN</td>\n",
       "    </tr>\n",
       "    <tr>\n",
       "      <th>2</th>\n",
       "      <td>Angola</td>\n",
       "      <td>AGO</td>\n",
       "      <td>Population, total</td>\n",
       "      <td>SP.POP.TOTL</td>\n",
       "      <td>5643182.0</td>\n",
       "      <td>5753024.0</td>\n",
       "      <td>5866061.0</td>\n",
       "      <td>5980417.0</td>\n",
       "      <td>6093321.0</td>\n",
       "      <td>6203299.0</td>\n",
       "      <td>...</td>\n",
       "      <td>21759420.0</td>\n",
       "      <td>22549547.0</td>\n",
       "      <td>23369131.0</td>\n",
       "      <td>24218565.0</td>\n",
       "      <td>25096150.0</td>\n",
       "      <td>25998340.0</td>\n",
       "      <td>26920466.0</td>\n",
       "      <td>27859305.0</td>\n",
       "      <td>28813463.0</td>\n",
       "      <td>NaN</td>\n",
       "    </tr>\n",
       "    <tr>\n",
       "      <th>3</th>\n",
       "      <td>Albania</td>\n",
       "      <td>ALB</td>\n",
       "      <td>Population, total</td>\n",
       "      <td>SP.POP.TOTL</td>\n",
       "      <td>1608800.0</td>\n",
       "      <td>1659800.0</td>\n",
       "      <td>1711319.0</td>\n",
       "      <td>1762621.0</td>\n",
       "      <td>1814135.0</td>\n",
       "      <td>1864791.0</td>\n",
       "      <td>...</td>\n",
       "      <td>2947314.0</td>\n",
       "      <td>2927519.0</td>\n",
       "      <td>2913021.0</td>\n",
       "      <td>2905195.0</td>\n",
       "      <td>2900401.0</td>\n",
       "      <td>2895092.0</td>\n",
       "      <td>2889104.0</td>\n",
       "      <td>2880703.0</td>\n",
       "      <td>2876101.0</td>\n",
       "      <td>NaN</td>\n",
       "    </tr>\n",
       "    <tr>\n",
       "      <th>4</th>\n",
       "      <td>Andorra</td>\n",
       "      <td>AND</td>\n",
       "      <td>Population, total</td>\n",
       "      <td>SP.POP.TOTL</td>\n",
       "      <td>13411.0</td>\n",
       "      <td>14375.0</td>\n",
       "      <td>15370.0</td>\n",
       "      <td>16412.0</td>\n",
       "      <td>17469.0</td>\n",
       "      <td>18549.0</td>\n",
       "      <td>...</td>\n",
       "      <td>83861.0</td>\n",
       "      <td>84462.0</td>\n",
       "      <td>84449.0</td>\n",
       "      <td>83751.0</td>\n",
       "      <td>82431.0</td>\n",
       "      <td>80788.0</td>\n",
       "      <td>79223.0</td>\n",
       "      <td>78014.0</td>\n",
       "      <td>77281.0</td>\n",
       "      <td>NaN</td>\n",
       "    </tr>\n",
       "  </tbody>\n",
       "</table>\n",
       "<p>5 rows × 62 columns</p>\n",
       "</div>"
      ],
      "text/plain": [
       "  Country Name Country Code     Indicator Name Indicator Code       1960  \\\n",
       "0        Aruba          ABW  Population, total    SP.POP.TOTL    54211.0   \n",
       "1  Afghanistan          AFG  Population, total    SP.POP.TOTL  8996351.0   \n",
       "2       Angola          AGO  Population, total    SP.POP.TOTL  5643182.0   \n",
       "3      Albania          ALB  Population, total    SP.POP.TOTL  1608800.0   \n",
       "4      Andorra          AND  Population, total    SP.POP.TOTL    13411.0   \n",
       "\n",
       "        1961       1962       1963       1964       1965     ...       \\\n",
       "0    55438.0    56225.0    56695.0    57032.0    57360.0     ...        \n",
       "1  9166764.0  9345868.0  9533954.0  9731361.0  9938414.0     ...        \n",
       "2  5753024.0  5866061.0  5980417.0  6093321.0  6203299.0     ...        \n",
       "3  1659800.0  1711319.0  1762621.0  1814135.0  1864791.0     ...        \n",
       "4    14375.0    15370.0    16412.0    17469.0    18549.0     ...        \n",
       "\n",
       "         2008        2009        2010        2011        2012        2013  \\\n",
       "0    101353.0    101453.0    101669.0    102053.0    102577.0    103187.0   \n",
       "1  27294031.0  28004331.0  28803167.0  29708599.0  30696958.0  31731688.0   \n",
       "2  21759420.0  22549547.0  23369131.0  24218565.0  25096150.0  25998340.0   \n",
       "3   2947314.0   2927519.0   2913021.0   2905195.0   2900401.0   2895092.0   \n",
       "4     83861.0     84462.0     84449.0     83751.0     82431.0     80788.0   \n",
       "\n",
       "         2014        2015        2016  Unnamed: 61  \n",
       "0    103795.0    104341.0    104822.0          NaN  \n",
       "1  32758020.0  33736494.0  34656032.0          NaN  \n",
       "2  26920466.0  27859305.0  28813463.0          NaN  \n",
       "3   2889104.0   2880703.0   2876101.0          NaN  \n",
       "4     79223.0     78014.0     77281.0          NaN  \n",
       "\n",
       "[5 rows x 62 columns]"
      ]
     },
     "execution_count": 19,
     "metadata": {},
     "output_type": "execute_result"
    }
   ],
   "source": [
    "# downloaded file and saved as pop.csv in HW5 directory\n",
    "df2 = pd.read_csv('pop.csv',  skiprows=4)\n",
    "df2.head()"
   ]
  },
  {
   "cell_type": "code",
   "execution_count": 18,
   "metadata": {},
   "outputs": [
    {
     "data": {
      "text/html": [
       "<div>\n",
       "<style>\n",
       "    .dataframe thead tr:only-child th {\n",
       "        text-align: right;\n",
       "    }\n",
       "\n",
       "    .dataframe thead th {\n",
       "        text-align: left;\n",
       "    }\n",
       "\n",
       "    .dataframe tbody tr th {\n",
       "        vertical-align: top;\n",
       "    }\n",
       "</style>\n",
       "<table border=\"1\" class=\"dataframe\">\n",
       "  <thead>\n",
       "    <tr style=\"text-align: right;\">\n",
       "      <th></th>\n",
       "      <th>Country</th>\n",
       "      <th>Guns/100 inhabitants</th>\n",
       "      <th>Number of mass shootings</th>\n",
       "    </tr>\n",
       "  </thead>\n",
       "  <tbody>\n",
       "    <tr>\n",
       "      <th>0</th>\n",
       "      <td>Australia</td>\n",
       "      <td>15.0</td>\n",
       "      <td>4</td>\n",
       "    </tr>\n",
       "    <tr>\n",
       "      <th>1</th>\n",
       "      <td>Austria</td>\n",
       "      <td>30.4</td>\n",
       "      <td>1</td>\n",
       "    </tr>\n",
       "    <tr>\n",
       "      <th>2</th>\n",
       "      <td>Beligium</td>\n",
       "      <td>17.2</td>\n",
       "      <td>2</td>\n",
       "    </tr>\n",
       "    <tr>\n",
       "      <th>3</th>\n",
       "      <td>Canada</td>\n",
       "      <td>30.8</td>\n",
       "      <td>4</td>\n",
       "    </tr>\n",
       "    <tr>\n",
       "      <th>4</th>\n",
       "      <td>Denmark</td>\n",
       "      <td>12.0</td>\n",
       "      <td>0</td>\n",
       "    </tr>\n",
       "  </tbody>\n",
       "</table>\n",
       "</div>"
      ],
      "text/plain": [
       "     Country  Guns/100 inhabitants  Number of mass shootings\n",
       "0  Australia                  15.0                         4\n",
       "1    Austria                  30.4                         1\n",
       "2   Beligium                  17.2                         2\n",
       "3     Canada                  30.8                         4\n",
       "4    Denmark                  12.0                         0"
      ]
     },
     "execution_count": 18,
     "metadata": {},
     "output_type": "execute_result"
    }
   ],
   "source": [
    "# download file and saved as shooters.csv in HW5 directory\n",
    "df3 = pd.read_csv('shooters.csv')\n",
    "df3.head()"
   ]
  },
  {
   "cell_type": "code",
   "execution_count": 23,
   "metadata": {},
   "outputs": [
    {
     "data": {
      "text/html": [
       "<div>\n",
       "<style>\n",
       "    .dataframe thead tr:only-child th {\n",
       "        text-align: right;\n",
       "    }\n",
       "\n",
       "    .dataframe thead th {\n",
       "        text-align: left;\n",
       "    }\n",
       "\n",
       "    .dataframe tbody tr th {\n",
       "        vertical-align: top;\n",
       "    }\n",
       "</style>\n",
       "<table border=\"1\" class=\"dataframe\">\n",
       "  <thead>\n",
       "    <tr style=\"text-align: right;\">\n",
       "      <th></th>\n",
       "      <th>Country/Territory</th>\n",
       "      <th>ISO code</th>\n",
       "      <th>Source</th>\n",
       "      <th>% of homicides by firearm</th>\n",
       "      <th>Number of homicides by firearm</th>\n",
       "      <th>Homicide by firearm rate per 100,000 pop</th>\n",
       "      <th>Rank by rate of ownership</th>\n",
       "      <th>Average firearms per 100 people</th>\n",
       "      <th>Average total all civilian firearms</th>\n",
       "      <th>Country Name</th>\n",
       "      <th>...</th>\n",
       "      <th>2008</th>\n",
       "      <th>2009</th>\n",
       "      <th>2010</th>\n",
       "      <th>2011</th>\n",
       "      <th>2012</th>\n",
       "      <th>2013</th>\n",
       "      <th>2014</th>\n",
       "      <th>2015</th>\n",
       "      <th>2016</th>\n",
       "      <th>Unnamed: 61</th>\n",
       "    </tr>\n",
       "  </thead>\n",
       "  <tbody>\n",
       "    <tr>\n",
       "      <th>0</th>\n",
       "      <td>Albania</td>\n",
       "      <td>AL</td>\n",
       "      <td>CTS</td>\n",
       "      <td>65.9</td>\n",
       "      <td>56.0</td>\n",
       "      <td>1.76</td>\n",
       "      <td>70.0</td>\n",
       "      <td>8.6</td>\n",
       "      <td>270000.0</td>\n",
       "      <td>Albania</td>\n",
       "      <td>...</td>\n",
       "      <td>2947314.0</td>\n",
       "      <td>2927519.0</td>\n",
       "      <td>2913021.0</td>\n",
       "      <td>2905195.0</td>\n",
       "      <td>2900401.0</td>\n",
       "      <td>2895092.0</td>\n",
       "      <td>2889104.0</td>\n",
       "      <td>2880703.0</td>\n",
       "      <td>2876101.0</td>\n",
       "      <td>NaN</td>\n",
       "    </tr>\n",
       "    <tr>\n",
       "      <th>1</th>\n",
       "      <td>Algeria</td>\n",
       "      <td>DZ</td>\n",
       "      <td>CTS</td>\n",
       "      <td>4.8</td>\n",
       "      <td>20.0</td>\n",
       "      <td>0.06</td>\n",
       "      <td>78.0</td>\n",
       "      <td>7.6</td>\n",
       "      <td>1900000.0</td>\n",
       "      <td>Algeria</td>\n",
       "      <td>...</td>\n",
       "      <td>34860715.0</td>\n",
       "      <td>35465760.0</td>\n",
       "      <td>36117637.0</td>\n",
       "      <td>36819558.0</td>\n",
       "      <td>37565847.0</td>\n",
       "      <td>38338562.0</td>\n",
       "      <td>39113313.0</td>\n",
       "      <td>39871528.0</td>\n",
       "      <td>40606052.0</td>\n",
       "      <td>NaN</td>\n",
       "    </tr>\n",
       "    <tr>\n",
       "      <th>2</th>\n",
       "      <td>Angola</td>\n",
       "      <td>AO</td>\n",
       "      <td>NaN</td>\n",
       "      <td>NaN</td>\n",
       "      <td>NaN</td>\n",
       "      <td>NaN</td>\n",
       "      <td>34.0</td>\n",
       "      <td>17.3</td>\n",
       "      <td>2800000.0</td>\n",
       "      <td>Angola</td>\n",
       "      <td>...</td>\n",
       "      <td>21759420.0</td>\n",
       "      <td>22549547.0</td>\n",
       "      <td>23369131.0</td>\n",
       "      <td>24218565.0</td>\n",
       "      <td>25096150.0</td>\n",
       "      <td>25998340.0</td>\n",
       "      <td>26920466.0</td>\n",
       "      <td>27859305.0</td>\n",
       "      <td>28813463.0</td>\n",
       "      <td>NaN</td>\n",
       "    </tr>\n",
       "    <tr>\n",
       "      <th>3</th>\n",
       "      <td>Argentina</td>\n",
       "      <td>AR</td>\n",
       "      <td>Ministry of Justice</td>\n",
       "      <td>52.0</td>\n",
       "      <td>1198.0</td>\n",
       "      <td>3.02</td>\n",
       "      <td>62.0</td>\n",
       "      <td>10.2</td>\n",
       "      <td>3950000.0</td>\n",
       "      <td>Argentina</td>\n",
       "      <td>...</td>\n",
       "      <td>40382389.0</td>\n",
       "      <td>40799407.0</td>\n",
       "      <td>41223889.0</td>\n",
       "      <td>41656879.0</td>\n",
       "      <td>42096739.0</td>\n",
       "      <td>42539925.0</td>\n",
       "      <td>42981515.0</td>\n",
       "      <td>43417765.0</td>\n",
       "      <td>43847430.0</td>\n",
       "      <td>NaN</td>\n",
       "    </tr>\n",
       "    <tr>\n",
       "      <th>4</th>\n",
       "      <td>Armenia</td>\n",
       "      <td>AM</td>\n",
       "      <td>CTS</td>\n",
       "      <td>13.0</td>\n",
       "      <td>9.0</td>\n",
       "      <td>0.29</td>\n",
       "      <td>52.0</td>\n",
       "      <td>12.5</td>\n",
       "      <td>380000.0</td>\n",
       "      <td>Armenia</td>\n",
       "      <td>...</td>\n",
       "      <td>2908220.0</td>\n",
       "      <td>2888584.0</td>\n",
       "      <td>2877311.0</td>\n",
       "      <td>2875581.0</td>\n",
       "      <td>2881922.0</td>\n",
       "      <td>2893509.0</td>\n",
       "      <td>2906220.0</td>\n",
       "      <td>2916950.0</td>\n",
       "      <td>2924816.0</td>\n",
       "      <td>NaN</td>\n",
       "    </tr>\n",
       "  </tbody>\n",
       "</table>\n",
       "<p>5 rows × 71 columns</p>\n",
       "</div>"
      ],
      "text/plain": [
       "  Country/Territory ISO code               Source  % of homicides by firearm  \\\n",
       "0           Albania       AL                  CTS                       65.9   \n",
       "1           Algeria       DZ                  CTS                        4.8   \n",
       "2            Angola       AO                  NaN                        NaN   \n",
       "3         Argentina       AR  Ministry of Justice                       52.0   \n",
       "4           Armenia       AM                  CTS                       13.0   \n",
       "\n",
       "   Number of homicides by firearm  Homicide by firearm rate per 100,000 pop  \\\n",
       "0                            56.0                                      1.76   \n",
       "1                            20.0                                      0.06   \n",
       "2                             NaN                                       NaN   \n",
       "3                          1198.0                                      3.02   \n",
       "4                             9.0                                      0.29   \n",
       "\n",
       "   Rank by rate of ownership  Average firearms per 100 people  \\\n",
       "0                       70.0                              8.6   \n",
       "1                       78.0                              7.6   \n",
       "2                       34.0                             17.3   \n",
       "3                       62.0                             10.2   \n",
       "4                       52.0                             12.5   \n",
       "\n",
       "   Average total all civilian firearms Country Name     ...             2008  \\\n",
       "0                             270000.0      Albania     ...        2947314.0   \n",
       "1                            1900000.0      Algeria     ...       34860715.0   \n",
       "2                            2800000.0       Angola     ...       21759420.0   \n",
       "3                            3950000.0    Argentina     ...       40382389.0   \n",
       "4                             380000.0      Armenia     ...        2908220.0   \n",
       "\n",
       "         2009        2010        2011        2012        2013        2014  \\\n",
       "0   2927519.0   2913021.0   2905195.0   2900401.0   2895092.0   2889104.0   \n",
       "1  35465760.0  36117637.0  36819558.0  37565847.0  38338562.0  39113313.0   \n",
       "2  22549547.0  23369131.0  24218565.0  25096150.0  25998340.0  26920466.0   \n",
       "3  40799407.0  41223889.0  41656879.0  42096739.0  42539925.0  42981515.0   \n",
       "4   2888584.0   2877311.0   2875581.0   2881922.0   2893509.0   2906220.0   \n",
       "\n",
       "         2015        2016  Unnamed: 61  \n",
       "0   2880703.0   2876101.0          NaN  \n",
       "1  39871528.0  40606052.0          NaN  \n",
       "2  27859305.0  28813463.0          NaN  \n",
       "3  43417765.0  43847430.0          NaN  \n",
       "4   2916950.0   2924816.0          NaN  \n",
       "\n",
       "[5 rows x 71 columns]"
      ]
     },
     "execution_count": 23,
     "metadata": {},
     "output_type": "execute_result"
    }
   ],
   "source": [
    "df_12 = df1.merge(df2, how='inner', right_on=\"Country Name\", left_on=\"Country/Territory\")\n",
    "df_12.head()"
   ]
  },
  {
   "cell_type": "code",
   "execution_count": 74,
   "metadata": {
    "collapsed": true
   },
   "outputs": [],
   "source": [
    "df_all = df_12.merge(df3, how = 'inner', right_on = 'Country', left_on=\"Country/Territory\")\n",
    "\n",
    "# Change 2012 pop to 'pop'\n",
    "df_all = df_all.rename(columns={'2012': 'population',})\n"
   ]
  },
  {
   "cell_type": "code",
   "execution_count": 75,
   "metadata": {},
   "outputs": [
    {
     "data": {
      "text/html": [
       "<div>\n",
       "<style>\n",
       "    .dataframe thead tr:only-child th {\n",
       "        text-align: right;\n",
       "    }\n",
       "\n",
       "    .dataframe thead th {\n",
       "        text-align: left;\n",
       "    }\n",
       "\n",
       "    .dataframe tbody tr th {\n",
       "        vertical-align: top;\n",
       "    }\n",
       "</style>\n",
       "<table border=\"1\" class=\"dataframe\">\n",
       "  <thead>\n",
       "    <tr style=\"text-align: right;\">\n",
       "      <th></th>\n",
       "      <th>Country Name</th>\n",
       "      <th>Country Code</th>\n",
       "      <th>Indicator Name</th>\n",
       "      <th>Indicator Code</th>\n",
       "      <th>1960</th>\n",
       "      <th>1961</th>\n",
       "      <th>1962</th>\n",
       "      <th>1963</th>\n",
       "      <th>1964</th>\n",
       "      <th>1965</th>\n",
       "      <th>...</th>\n",
       "      <th>2008</th>\n",
       "      <th>2009</th>\n",
       "      <th>2010</th>\n",
       "      <th>2011</th>\n",
       "      <th>2012</th>\n",
       "      <th>2013</th>\n",
       "      <th>2014</th>\n",
       "      <th>2015</th>\n",
       "      <th>2016</th>\n",
       "      <th>Unnamed: 61</th>\n",
       "    </tr>\n",
       "  </thead>\n",
       "  <tbody>\n",
       "    <tr>\n",
       "      <th>0</th>\n",
       "      <td>Aruba</td>\n",
       "      <td>ABW</td>\n",
       "      <td>GDP (current US$)</td>\n",
       "      <td>NY.GDP.MKTP.CD</td>\n",
       "      <td>NaN</td>\n",
       "      <td>NaN</td>\n",
       "      <td>NaN</td>\n",
       "      <td>NaN</td>\n",
       "      <td>NaN</td>\n",
       "      <td>NaN</td>\n",
       "      <td>...</td>\n",
       "      <td>2.791961e+09</td>\n",
       "      <td>2.498933e+09</td>\n",
       "      <td>2.467704e+09</td>\n",
       "      <td>2.584464e+09</td>\n",
       "      <td>NaN</td>\n",
       "      <td>NaN</td>\n",
       "      <td>NaN</td>\n",
       "      <td>NaN</td>\n",
       "      <td>NaN</td>\n",
       "      <td>NaN</td>\n",
       "    </tr>\n",
       "    <tr>\n",
       "      <th>1</th>\n",
       "      <td>Afghanistan</td>\n",
       "      <td>AFG</td>\n",
       "      <td>GDP (current US$)</td>\n",
       "      <td>NY.GDP.MKTP.CD</td>\n",
       "      <td>5.377778e+08</td>\n",
       "      <td>5.488889e+08</td>\n",
       "      <td>5.466667e+08</td>\n",
       "      <td>7.511112e+08</td>\n",
       "      <td>8.000000e+08</td>\n",
       "      <td>1.006667e+09</td>\n",
       "      <td>...</td>\n",
       "      <td>1.019053e+10</td>\n",
       "      <td>1.248694e+10</td>\n",
       "      <td>1.593680e+10</td>\n",
       "      <td>1.793024e+10</td>\n",
       "      <td>2.053654e+10</td>\n",
       "      <td>2.004633e+10</td>\n",
       "      <td>2.005019e+10</td>\n",
       "      <td>1.970299e+10</td>\n",
       "      <td>1.946902e+10</td>\n",
       "      <td>NaN</td>\n",
       "    </tr>\n",
       "    <tr>\n",
       "      <th>2</th>\n",
       "      <td>Angola</td>\n",
       "      <td>AGO</td>\n",
       "      <td>GDP (current US$)</td>\n",
       "      <td>NY.GDP.MKTP.CD</td>\n",
       "      <td>NaN</td>\n",
       "      <td>NaN</td>\n",
       "      <td>NaN</td>\n",
       "      <td>NaN</td>\n",
       "      <td>NaN</td>\n",
       "      <td>NaN</td>\n",
       "      <td>...</td>\n",
       "      <td>8.417803e+10</td>\n",
       "      <td>7.549238e+10</td>\n",
       "      <td>8.247091e+10</td>\n",
       "      <td>1.041159e+11</td>\n",
       "      <td>1.153984e+11</td>\n",
       "      <td>1.249121e+11</td>\n",
       "      <td>1.267769e+11</td>\n",
       "      <td>1.029622e+11</td>\n",
       "      <td>8.963316e+10</td>\n",
       "      <td>NaN</td>\n",
       "    </tr>\n",
       "    <tr>\n",
       "      <th>3</th>\n",
       "      <td>Albania</td>\n",
       "      <td>ALB</td>\n",
       "      <td>GDP (current US$)</td>\n",
       "      <td>NY.GDP.MKTP.CD</td>\n",
       "      <td>NaN</td>\n",
       "      <td>NaN</td>\n",
       "      <td>NaN</td>\n",
       "      <td>NaN</td>\n",
       "      <td>NaN</td>\n",
       "      <td>NaN</td>\n",
       "      <td>...</td>\n",
       "      <td>1.288135e+10</td>\n",
       "      <td>1.204421e+10</td>\n",
       "      <td>1.192695e+10</td>\n",
       "      <td>1.289087e+10</td>\n",
       "      <td>1.231978e+10</td>\n",
       "      <td>1.278103e+10</td>\n",
       "      <td>1.321986e+10</td>\n",
       "      <td>1.139037e+10</td>\n",
       "      <td>1.192689e+10</td>\n",
       "      <td>NaN</td>\n",
       "    </tr>\n",
       "    <tr>\n",
       "      <th>4</th>\n",
       "      <td>Andorra</td>\n",
       "      <td>AND</td>\n",
       "      <td>GDP (current US$)</td>\n",
       "      <td>NY.GDP.MKTP.CD</td>\n",
       "      <td>NaN</td>\n",
       "      <td>NaN</td>\n",
       "      <td>NaN</td>\n",
       "      <td>NaN</td>\n",
       "      <td>NaN</td>\n",
       "      <td>NaN</td>\n",
       "      <td>...</td>\n",
       "      <td>4.001201e+09</td>\n",
       "      <td>3.650083e+09</td>\n",
       "      <td>3.346517e+09</td>\n",
       "      <td>3.427023e+09</td>\n",
       "      <td>3.146152e+09</td>\n",
       "      <td>3.248925e+09</td>\n",
       "      <td>NaN</td>\n",
       "      <td>NaN</td>\n",
       "      <td>NaN</td>\n",
       "      <td>NaN</td>\n",
       "    </tr>\n",
       "  </tbody>\n",
       "</table>\n",
       "<p>5 rows × 62 columns</p>\n",
       "</div>"
      ],
      "text/plain": [
       "  Country Name Country Code     Indicator Name  Indicator Code          1960  \\\n",
       "0        Aruba          ABW  GDP (current US$)  NY.GDP.MKTP.CD           NaN   \n",
       "1  Afghanistan          AFG  GDP (current US$)  NY.GDP.MKTP.CD  5.377778e+08   \n",
       "2       Angola          AGO  GDP (current US$)  NY.GDP.MKTP.CD           NaN   \n",
       "3      Albania          ALB  GDP (current US$)  NY.GDP.MKTP.CD           NaN   \n",
       "4      Andorra          AND  GDP (current US$)  NY.GDP.MKTP.CD           NaN   \n",
       "\n",
       "           1961          1962          1963          1964          1965  \\\n",
       "0           NaN           NaN           NaN           NaN           NaN   \n",
       "1  5.488889e+08  5.466667e+08  7.511112e+08  8.000000e+08  1.006667e+09   \n",
       "2           NaN           NaN           NaN           NaN           NaN   \n",
       "3           NaN           NaN           NaN           NaN           NaN   \n",
       "4           NaN           NaN           NaN           NaN           NaN   \n",
       "\n",
       "      ...               2008          2009          2010          2011  \\\n",
       "0     ...       2.791961e+09  2.498933e+09  2.467704e+09  2.584464e+09   \n",
       "1     ...       1.019053e+10  1.248694e+10  1.593680e+10  1.793024e+10   \n",
       "2     ...       8.417803e+10  7.549238e+10  8.247091e+10  1.041159e+11   \n",
       "3     ...       1.288135e+10  1.204421e+10  1.192695e+10  1.289087e+10   \n",
       "4     ...       4.001201e+09  3.650083e+09  3.346517e+09  3.427023e+09   \n",
       "\n",
       "           2012          2013          2014          2015          2016  \\\n",
       "0           NaN           NaN           NaN           NaN           NaN   \n",
       "1  2.053654e+10  2.004633e+10  2.005019e+10  1.970299e+10  1.946902e+10   \n",
       "2  1.153984e+11  1.249121e+11  1.267769e+11  1.029622e+11  8.963316e+10   \n",
       "3  1.231978e+10  1.278103e+10  1.321986e+10  1.139037e+10  1.192689e+10   \n",
       "4  3.146152e+09  3.248925e+09           NaN           NaN           NaN   \n",
       "\n",
       "   Unnamed: 61  \n",
       "0          NaN  \n",
       "1          NaN  \n",
       "2          NaN  \n",
       "3          NaN  \n",
       "4          NaN  \n",
       "\n",
       "[5 rows x 62 columns]"
      ]
     },
     "execution_count": 75,
     "metadata": {},
     "output_type": "execute_result"
    }
   ],
   "source": [
    "# looks like I need to add in gdp from 2012\n",
    "# downloaded and put in a file gdp.csv\n",
    "df4 = pd.read_csv('gdp.csv',  skiprows=4)\n",
    "df4.head()"
   ]
  },
  {
   "cell_type": "code",
   "execution_count": 76,
   "metadata": {},
   "outputs": [
    {
     "data": {
      "text/html": [
       "<div>\n",
       "<style>\n",
       "    .dataframe thead tr:only-child th {\n",
       "        text-align: right;\n",
       "    }\n",
       "\n",
       "    .dataframe thead th {\n",
       "        text-align: left;\n",
       "    }\n",
       "\n",
       "    .dataframe tbody tr th {\n",
       "        vertical-align: top;\n",
       "    }\n",
       "</style>\n",
       "<table border=\"1\" class=\"dataframe\">\n",
       "  <thead>\n",
       "    <tr style=\"text-align: right;\">\n",
       "      <th></th>\n",
       "      <th>Country/Territory</th>\n",
       "      <th>ISO code</th>\n",
       "      <th>Source</th>\n",
       "      <th>% of homicides by firearm</th>\n",
       "      <th>Number of homicides by firearm</th>\n",
       "      <th>Homicide by firearm rate per 100,000 pop</th>\n",
       "      <th>Rank by rate of ownership</th>\n",
       "      <th>Average firearms per 100 people</th>\n",
       "      <th>Average total all civilian firearms</th>\n",
       "      <th>Country Name_x</th>\n",
       "      <th>...</th>\n",
       "      <th>2008_y</th>\n",
       "      <th>2009_y</th>\n",
       "      <th>2010_y</th>\n",
       "      <th>2011_y</th>\n",
       "      <th>2012</th>\n",
       "      <th>2013_y</th>\n",
       "      <th>2014_y</th>\n",
       "      <th>2015_y</th>\n",
       "      <th>2016_y</th>\n",
       "      <th>Unnamed: 61_y</th>\n",
       "    </tr>\n",
       "  </thead>\n",
       "  <tbody>\n",
       "    <tr>\n",
       "      <th>0</th>\n",
       "      <td>Australia</td>\n",
       "      <td>AU</td>\n",
       "      <td>NSO</td>\n",
       "      <td>11.5</td>\n",
       "      <td>30.0</td>\n",
       "      <td>0.14</td>\n",
       "      <td>42.0</td>\n",
       "      <td>15.0</td>\n",
       "      <td>3050000.0</td>\n",
       "      <td>Australia</td>\n",
       "      <td>...</td>\n",
       "      <td>1.055335e+12</td>\n",
       "      <td>9.271683e+11</td>\n",
       "      <td>1.142877e+12</td>\n",
       "      <td>1.390557e+12</td>\n",
       "      <td>1.538194e+12</td>\n",
       "      <td>1.567179e+12</td>\n",
       "      <td>1.459598e+12</td>\n",
       "      <td>1.345383e+12</td>\n",
       "      <td>1.204616e+12</td>\n",
       "      <td>NaN</td>\n",
       "    </tr>\n",
       "    <tr>\n",
       "      <th>1</th>\n",
       "      <td>Austria</td>\n",
       "      <td>AT</td>\n",
       "      <td>CTS</td>\n",
       "      <td>29.5</td>\n",
       "      <td>18.0</td>\n",
       "      <td>0.22</td>\n",
       "      <td>14.0</td>\n",
       "      <td>30.4</td>\n",
       "      <td>2500000.0</td>\n",
       "      <td>Austria</td>\n",
       "      <td>...</td>\n",
       "      <td>4.276115e+11</td>\n",
       "      <td>3.975943e+11</td>\n",
       "      <td>3.902119e+11</td>\n",
       "      <td>4.290374e+11</td>\n",
       "      <td>4.074516e+11</td>\n",
       "      <td>4.282484e+11</td>\n",
       "      <td>4.383762e+11</td>\n",
       "      <td>3.769674e+11</td>\n",
       "      <td>3.864278e+11</td>\n",
       "      <td>NaN</td>\n",
       "    </tr>\n",
       "    <tr>\n",
       "      <th>2</th>\n",
       "      <td>Canada</td>\n",
       "      <td>CA</td>\n",
       "      <td>CTS</td>\n",
       "      <td>32.0</td>\n",
       "      <td>173.0</td>\n",
       "      <td>0.51</td>\n",
       "      <td>13.0</td>\n",
       "      <td>30.8</td>\n",
       "      <td>9950000.0</td>\n",
       "      <td>Canada</td>\n",
       "      <td>...</td>\n",
       "      <td>1.549131e+12</td>\n",
       "      <td>1.371153e+12</td>\n",
       "      <td>1.613464e+12</td>\n",
       "      <td>1.788648e+12</td>\n",
       "      <td>1.824289e+12</td>\n",
       "      <td>1.842628e+12</td>\n",
       "      <td>1.792883e+12</td>\n",
       "      <td>1.552808e+12</td>\n",
       "      <td>1.529760e+12</td>\n",
       "      <td>NaN</td>\n",
       "    </tr>\n",
       "    <tr>\n",
       "      <th>3</th>\n",
       "      <td>Denmark</td>\n",
       "      <td>DK</td>\n",
       "      <td>CTS</td>\n",
       "      <td>31.9</td>\n",
       "      <td>15.0</td>\n",
       "      <td>0.27</td>\n",
       "      <td>54.0</td>\n",
       "      <td>12.0</td>\n",
       "      <td>650000.0</td>\n",
       "      <td>Denmark</td>\n",
       "      <td>...</td>\n",
       "      <td>3.533611e+11</td>\n",
       "      <td>3.212414e+11</td>\n",
       "      <td>3.219954e+11</td>\n",
       "      <td>3.440032e+11</td>\n",
       "      <td>3.271489e+11</td>\n",
       "      <td>3.435844e+11</td>\n",
       "      <td>3.522970e+11</td>\n",
       "      <td>3.013078e+11</td>\n",
       "      <td>3.061429e+11</td>\n",
       "      <td>NaN</td>\n",
       "    </tr>\n",
       "    <tr>\n",
       "      <th>4</th>\n",
       "      <td>Finland</td>\n",
       "      <td>FI</td>\n",
       "      <td>CTS</td>\n",
       "      <td>19.8</td>\n",
       "      <td>24.0</td>\n",
       "      <td>0.45</td>\n",
       "      <td>4.0</td>\n",
       "      <td>45.3</td>\n",
       "      <td>2400000.0</td>\n",
       "      <td>Finland</td>\n",
       "      <td>...</td>\n",
       "      <td>2.837425e+11</td>\n",
       "      <td>2.514990e+11</td>\n",
       "      <td>2.477998e+11</td>\n",
       "      <td>2.736742e+11</td>\n",
       "      <td>2.567065e+11</td>\n",
       "      <td>2.699801e+11</td>\n",
       "      <td>2.726093e+11</td>\n",
       "      <td>2.323617e+11</td>\n",
       "      <td>2.367850e+11</td>\n",
       "      <td>NaN</td>\n",
       "    </tr>\n",
       "  </tbody>\n",
       "</table>\n",
       "<p>5 rows × 136 columns</p>\n",
       "</div>"
      ],
      "text/plain": [
       "  Country/Territory ISO code Source  % of homicides by firearm  \\\n",
       "0         Australia       AU    NSO                       11.5   \n",
       "1           Austria       AT    CTS                       29.5   \n",
       "2            Canada       CA    CTS                       32.0   \n",
       "3           Denmark       DK    CTS                       31.9   \n",
       "4           Finland       FI    CTS                       19.8   \n",
       "\n",
       "   Number of homicides by firearm  Homicide by firearm rate per 100,000 pop  \\\n",
       "0                            30.0                                      0.14   \n",
       "1                            18.0                                      0.22   \n",
       "2                           173.0                                      0.51   \n",
       "3                            15.0                                      0.27   \n",
       "4                            24.0                                      0.45   \n",
       "\n",
       "   Rank by rate of ownership  Average firearms per 100 people  \\\n",
       "0                       42.0                             15.0   \n",
       "1                       14.0                             30.4   \n",
       "2                       13.0                             30.8   \n",
       "3                       54.0                             12.0   \n",
       "4                        4.0                             45.3   \n",
       "\n",
       "   Average total all civilian firearms Country Name_x      ...        \\\n",
       "0                            3050000.0      Australia      ...         \n",
       "1                            2500000.0        Austria      ...         \n",
       "2                            9950000.0         Canada      ...         \n",
       "3                             650000.0        Denmark      ...         \n",
       "4                            2400000.0        Finland      ...         \n",
       "\n",
       "         2008_y        2009_y        2010_y        2011_y          2012  \\\n",
       "0  1.055335e+12  9.271683e+11  1.142877e+12  1.390557e+12  1.538194e+12   \n",
       "1  4.276115e+11  3.975943e+11  3.902119e+11  4.290374e+11  4.074516e+11   \n",
       "2  1.549131e+12  1.371153e+12  1.613464e+12  1.788648e+12  1.824289e+12   \n",
       "3  3.533611e+11  3.212414e+11  3.219954e+11  3.440032e+11  3.271489e+11   \n",
       "4  2.837425e+11  2.514990e+11  2.477998e+11  2.736742e+11  2.567065e+11   \n",
       "\n",
       "         2013_y        2014_y        2015_y        2016_y  Unnamed: 61_y  \n",
       "0  1.567179e+12  1.459598e+12  1.345383e+12  1.204616e+12            NaN  \n",
       "1  4.282484e+11  4.383762e+11  3.769674e+11  3.864278e+11            NaN  \n",
       "2  1.842628e+12  1.792883e+12  1.552808e+12  1.529760e+12            NaN  \n",
       "3  3.435844e+11  3.522970e+11  3.013078e+11  3.061429e+11            NaN  \n",
       "4  2.699801e+11  2.726093e+11  2.323617e+11  2.367850e+11            NaN  \n",
       "\n",
       "[5 rows x 136 columns]"
      ]
     },
     "execution_count": 76,
     "metadata": {},
     "output_type": "execute_result"
    }
   ],
   "source": [
    "df_all = df_all.merge(df4, how = 'inner', right_on = 'Country Name', left_on=\"Country/Territory\")\n",
    "df_all.head()"
   ]
  },
  {
   "cell_type": "code",
   "execution_count": 80,
   "metadata": {
    "ExecuteTime": {
     "end_time": "2017-10-12T11:18:40.575581",
     "start_time": "2017-10-12T11:18:40.446116"
    },
    "run_control": {
     "frozen": false,
     "read_only": false
    }
   },
   "outputs": [
    {
     "data": {
      "text/html": [
       "<div>\n",
       "<style>\n",
       "    .dataframe thead tr:only-child th {\n",
       "        text-align: right;\n",
       "    }\n",
       "\n",
       "    .dataframe thead th {\n",
       "        text-align: left;\n",
       "    }\n",
       "\n",
       "    .dataframe tbody tr th {\n",
       "        vertical-align: top;\n",
       "    }\n",
       "</style>\n",
       "<table border=\"1\" class=\"dataframe\">\n",
       "  <thead>\n",
       "    <tr style=\"text-align: right;\">\n",
       "      <th></th>\n",
       "      <th>Country/Territory</th>\n",
       "      <th>Average total all civilian firearms</th>\n",
       "      <th>population</th>\n",
       "      <th>gdp</th>\n",
       "      <th>Number of homicides by firearm</th>\n",
       "      <th>Guns/100 inhabitants</th>\n",
       "      <th>Number of mass shootings</th>\n",
       "    </tr>\n",
       "  </thead>\n",
       "  <tbody>\n",
       "    <tr>\n",
       "      <th>0</th>\n",
       "      <td>Australia</td>\n",
       "      <td>3050000.0</td>\n",
       "      <td>22728254.0</td>\n",
       "      <td>1.538194e+12</td>\n",
       "      <td>30.0</td>\n",
       "      <td>15.0</td>\n",
       "      <td>4</td>\n",
       "    </tr>\n",
       "    <tr>\n",
       "      <th>1</th>\n",
       "      <td>Austria</td>\n",
       "      <td>2500000.0</td>\n",
       "      <td>8429991.0</td>\n",
       "      <td>4.074516e+11</td>\n",
       "      <td>18.0</td>\n",
       "      <td>30.4</td>\n",
       "      <td>1</td>\n",
       "    </tr>\n",
       "    <tr>\n",
       "      <th>2</th>\n",
       "      <td>Canada</td>\n",
       "      <td>9950000.0</td>\n",
       "      <td>34750545.0</td>\n",
       "      <td>1.824289e+12</td>\n",
       "      <td>173.0</td>\n",
       "      <td>30.8</td>\n",
       "      <td>4</td>\n",
       "    </tr>\n",
       "    <tr>\n",
       "      <th>3</th>\n",
       "      <td>Denmark</td>\n",
       "      <td>650000.0</td>\n",
       "      <td>5591572.0</td>\n",
       "      <td>3.271489e+11</td>\n",
       "      <td>15.0</td>\n",
       "      <td>12.0</td>\n",
       "      <td>0</td>\n",
       "    </tr>\n",
       "    <tr>\n",
       "      <th>4</th>\n",
       "      <td>Finland</td>\n",
       "      <td>2400000.0</td>\n",
       "      <td>5413971.0</td>\n",
       "      <td>2.567065e+11</td>\n",
       "      <td>24.0</td>\n",
       "      <td>45.3</td>\n",
       "      <td>2</td>\n",
       "    </tr>\n",
       "    <tr>\n",
       "      <th>5</th>\n",
       "      <td>France</td>\n",
       "      <td>19000000.0</td>\n",
       "      <td>65659790.0</td>\n",
       "      <td>2.681416e+12</td>\n",
       "      <td>35.0</td>\n",
       "      <td>31.2</td>\n",
       "      <td>6</td>\n",
       "    </tr>\n",
       "    <tr>\n",
       "      <th>6</th>\n",
       "      <td>Germany</td>\n",
       "      <td>25000000.0</td>\n",
       "      <td>80425823.0</td>\n",
       "      <td>3.543984e+12</td>\n",
       "      <td>158.0</td>\n",
       "      <td>30.3</td>\n",
       "      <td>7</td>\n",
       "    </tr>\n",
       "    <tr>\n",
       "      <th>7</th>\n",
       "      <td>Greece</td>\n",
       "      <td>2500000.0</td>\n",
       "      <td>11045011.0</td>\n",
       "      <td>2.456707e+11</td>\n",
       "      <td>29.0</td>\n",
       "      <td>22.5</td>\n",
       "      <td>0</td>\n",
       "    </tr>\n",
       "    <tr>\n",
       "      <th>8</th>\n",
       "      <td>Hungary</td>\n",
       "      <td>560000.0</td>\n",
       "      <td>9920362.0</td>\n",
       "      <td>1.273211e+11</td>\n",
       "      <td>7.0</td>\n",
       "      <td>5.5</td>\n",
       "      <td>0</td>\n",
       "    </tr>\n",
       "    <tr>\n",
       "      <th>9</th>\n",
       "      <td>Iceland</td>\n",
       "      <td>90000.0</td>\n",
       "      <td>320716.0</td>\n",
       "      <td>1.421858e+10</td>\n",
       "      <td>0.0</td>\n",
       "      <td>30.3</td>\n",
       "      <td>0</td>\n",
       "    </tr>\n",
       "    <tr>\n",
       "      <th>10</th>\n",
       "      <td>Ireland</td>\n",
       "      <td>360000.0</td>\n",
       "      <td>4586897.0</td>\n",
       "      <td>2.258192e+11</td>\n",
       "      <td>21.0</td>\n",
       "      <td>8.6</td>\n",
       "      <td>0</td>\n",
       "    </tr>\n",
       "    <tr>\n",
       "      <th>11</th>\n",
       "      <td>Italy</td>\n",
       "      <td>7000000.0</td>\n",
       "      <td>59539717.0</td>\n",
       "      <td>2.072823e+12</td>\n",
       "      <td>417.0</td>\n",
       "      <td>11.9</td>\n",
       "      <td>0</td>\n",
       "    </tr>\n",
       "    <tr>\n",
       "      <th>12</th>\n",
       "      <td>Japan</td>\n",
       "      <td>710000.0</td>\n",
       "      <td>127629000.0</td>\n",
       "      <td>6.203213e+12</td>\n",
       "      <td>11.0</td>\n",
       "      <td>0.6</td>\n",
       "      <td>0</td>\n",
       "    </tr>\n",
       "    <tr>\n",
       "      <th>13</th>\n",
       "      <td>Luxembourg</td>\n",
       "      <td>70000.0</td>\n",
       "      <td>530946.0</td>\n",
       "      <td>5.667796e+10</td>\n",
       "      <td>3.0</td>\n",
       "      <td>15.3</td>\n",
       "      <td>0</td>\n",
       "    </tr>\n",
       "    <tr>\n",
       "      <th>14</th>\n",
       "      <td>New Zealand</td>\n",
       "      <td>925000.0</td>\n",
       "      <td>4408100.0</td>\n",
       "      <td>1.761929e+11</td>\n",
       "      <td>7.0</td>\n",
       "      <td>22.6</td>\n",
       "      <td>3</td>\n",
       "    </tr>\n",
       "    <tr>\n",
       "      <th>15</th>\n",
       "      <td>Norway</td>\n",
       "      <td>1400000.0</td>\n",
       "      <td>5018573.0</td>\n",
       "      <td>5.097049e+11</td>\n",
       "      <td>2.0</td>\n",
       "      <td>31.3</td>\n",
       "      <td>1</td>\n",
       "    </tr>\n",
       "    <tr>\n",
       "      <th>16</th>\n",
       "      <td>Poland</td>\n",
       "      <td>510000.0</td>\n",
       "      <td>38063164.0</td>\n",
       "      <td>5.003443e+11</td>\n",
       "      <td>35.0</td>\n",
       "      <td>1.3</td>\n",
       "      <td>0</td>\n",
       "    </tr>\n",
       "    <tr>\n",
       "      <th>17</th>\n",
       "      <td>Portugal</td>\n",
       "      <td>900000.0</td>\n",
       "      <td>10514844.0</td>\n",
       "      <td>2.163682e+11</td>\n",
       "      <td>44.0</td>\n",
       "      <td>8.5</td>\n",
       "      <td>1</td>\n",
       "    </tr>\n",
       "    <tr>\n",
       "      <th>18</th>\n",
       "      <td>Spain</td>\n",
       "      <td>4500000.0</td>\n",
       "      <td>46773055.0</td>\n",
       "      <td>1.335946e+12</td>\n",
       "      <td>90.0</td>\n",
       "      <td>10.4</td>\n",
       "      <td>1</td>\n",
       "    </tr>\n",
       "    <tr>\n",
       "      <th>19</th>\n",
       "      <td>Sweden</td>\n",
       "      <td>2800000.0</td>\n",
       "      <td>9519374.0</td>\n",
       "      <td>5.438806e+11</td>\n",
       "      <td>37.0</td>\n",
       "      <td>31.6</td>\n",
       "      <td>2</td>\n",
       "    </tr>\n",
       "    <tr>\n",
       "      <th>20</th>\n",
       "      <td>Switzerland</td>\n",
       "      <td>3400000.0</td>\n",
       "      <td>7996861.0</td>\n",
       "      <td>6.650541e+11</td>\n",
       "      <td>57.0</td>\n",
       "      <td>45.7</td>\n",
       "      <td>2</td>\n",
       "    </tr>\n",
       "    <tr>\n",
       "      <th>21</th>\n",
       "      <td>United States</td>\n",
       "      <td>270000000.0</td>\n",
       "      <td>313998379.0</td>\n",
       "      <td>1.615526e+13</td>\n",
       "      <td>9146.0</td>\n",
       "      <td>88.8</td>\n",
       "      <td>78</td>\n",
       "    </tr>\n",
       "  </tbody>\n",
       "</table>\n",
       "</div>"
      ],
      "text/plain": [
       "   Country/Territory  Average total all civilian firearms   population  \\\n",
       "0          Australia                            3050000.0   22728254.0   \n",
       "1            Austria                            2500000.0    8429991.0   \n",
       "2             Canada                            9950000.0   34750545.0   \n",
       "3            Denmark                             650000.0    5591572.0   \n",
       "4            Finland                            2400000.0    5413971.0   \n",
       "5             France                           19000000.0   65659790.0   \n",
       "6            Germany                           25000000.0   80425823.0   \n",
       "7             Greece                            2500000.0   11045011.0   \n",
       "8            Hungary                             560000.0    9920362.0   \n",
       "9            Iceland                              90000.0     320716.0   \n",
       "10           Ireland                             360000.0    4586897.0   \n",
       "11             Italy                            7000000.0   59539717.0   \n",
       "12             Japan                             710000.0  127629000.0   \n",
       "13        Luxembourg                              70000.0     530946.0   \n",
       "14       New Zealand                             925000.0    4408100.0   \n",
       "15            Norway                            1400000.0    5018573.0   \n",
       "16            Poland                             510000.0   38063164.0   \n",
       "17          Portugal                             900000.0   10514844.0   \n",
       "18             Spain                            4500000.0   46773055.0   \n",
       "19            Sweden                            2800000.0    9519374.0   \n",
       "20       Switzerland                            3400000.0    7996861.0   \n",
       "21     United States                          270000000.0  313998379.0   \n",
       "\n",
       "             gdp  Number of homicides by firearm  Guns/100 inhabitants  \\\n",
       "0   1.538194e+12                            30.0                  15.0   \n",
       "1   4.074516e+11                            18.0                  30.4   \n",
       "2   1.824289e+12                           173.0                  30.8   \n",
       "3   3.271489e+11                            15.0                  12.0   \n",
       "4   2.567065e+11                            24.0                  45.3   \n",
       "5   2.681416e+12                            35.0                  31.2   \n",
       "6   3.543984e+12                           158.0                  30.3   \n",
       "7   2.456707e+11                            29.0                  22.5   \n",
       "8   1.273211e+11                             7.0                   5.5   \n",
       "9   1.421858e+10                             0.0                  30.3   \n",
       "10  2.258192e+11                            21.0                   8.6   \n",
       "11  2.072823e+12                           417.0                  11.9   \n",
       "12  6.203213e+12                            11.0                   0.6   \n",
       "13  5.667796e+10                             3.0                  15.3   \n",
       "14  1.761929e+11                             7.0                  22.6   \n",
       "15  5.097049e+11                             2.0                  31.3   \n",
       "16  5.003443e+11                            35.0                   1.3   \n",
       "17  2.163682e+11                            44.0                   8.5   \n",
       "18  1.335946e+12                            90.0                  10.4   \n",
       "19  5.438806e+11                            37.0                  31.6   \n",
       "20  6.650541e+11                            57.0                  45.7   \n",
       "21  1.615526e+13                          9146.0                  88.8   \n",
       "\n",
       "    Number of mass shootings  \n",
       "0                          4  \n",
       "1                          1  \n",
       "2                          4  \n",
       "3                          0  \n",
       "4                          2  \n",
       "5                          6  \n",
       "6                          7  \n",
       "7                          0  \n",
       "8                          0  \n",
       "9                          0  \n",
       "10                         0  \n",
       "11                         0  \n",
       "12                         0  \n",
       "13                         0  \n",
       "14                         3  \n",
       "15                         1  \n",
       "16                         0  \n",
       "17                         1  \n",
       "18                         1  \n",
       "19                         2  \n",
       "20                         2  \n",
       "21                        78  "
      ]
     },
     "execution_count": 80,
     "metadata": {},
     "output_type": "execute_result"
    }
   ],
   "source": [
    "# now subset to columns\n",
    "df_sub = df_all[['Country/Territory', 'Average total all civilian firearms', 'population', \n",
    "                 '2012', 'Number of homicides by firearm', 'Guns/100 inhabitants',\n",
    "                'Number of mass shootings']]\n",
    "df_sub = df_sub.rename(columns={'2012': 'gdp',})\n",
    "df_sub"
   ]
  },
  {
   "cell_type": "markdown",
   "metadata": {},
   "source": [
    "# exploration\n",
    "\n",
    "## plot mass shooting vs gdp in absolute numbers, and per person. Show the errorbars (y errors)\n",
    "\n",
    "Use Poisson statistics for the errorbars on the number of mass shootings (optional: include errors on the population, also as Poisson statistics)\n",
    "\n",
    "Are there any points that look like they may be outilers?\n"
   ]
  },
  {
   "cell_type": "code",
   "execution_count": 81,
   "metadata": {},
   "outputs": [
    {
     "data": {
      "image/png": "[encoded data removed]",
      "text/plain": [
       "<matplotlib.figure.Figure at 0x10431b7f0>"
      ]
     },
     "metadata": {},
     "output_type": "display_data"
    },
    {
     "name": "stdout",
     "output_type": "stream",
     "text": [
      "Number of mass shooting vs GDP, errors represent Poisson statistics.\n",
      "The datapoint to the top right of the plot is the USA, which has both the highest GDP and the highest number of mass shootings\n"
     ]
    }
   ],
   "source": [
    "fig = pl.figure(figsize=(10,5)) \n",
    "ax = fig.add_subplot(111)\n",
    "\n",
    "scatter = ax.scatter(df_sub.gdp / 1e9, df_sub['Number of mass shootings'])\n",
    "ax.errorbar(df_sub.gdp / 1e9, df_sub['Number of mass shootings'], \n",
    "            yerr = np.sqrt(df_sub['Number of mass shootings'] * 1.0), fmt = '.')\n",
    "ax.set_xlabel(\"GDP (in billions)\")\n",
    "ax.set_ylabel(\"Number of mass shooting per person\")\n",
    "ax.set_ylim()\n",
    "pl.show()\n",
    "print (\"Number of mass shooting vs GDP, \" + \n",
    "       \"errors represent Poisson statistics.\\n\" + \n",
    "       \"The datapoint to the top right of the plot is the USA, \" + \n",
    "       \"which has both the highest GDP and the highest number of mass shootings\")"
   ]
  },
  {
   "cell_type": "code",
   "execution_count": 88,
   "metadata": {},
   "outputs": [
    {
     "data": {
      "image/png": "[encoded data removed]",
      "text/plain": [
       "<matplotlib.figure.Figure at 0x10b6a2908>"
      ]
     },
     "metadata": {},
     "output_type": "display_data"
    },
    {
     "name": "stdout",
     "output_type": "stream",
     "text": [
      "Number of mass shooting vs GDP per capita, errors represent Poisson statistics.\n",
      "The datapoint to the top middle of the plot is the USA, which has the highest number of mass shootings\n"
     ]
    }
   ],
   "source": [
    "# Now for per person\n",
    "fig = pl.figure(figsize=(10,5)) \n",
    "ax = fig.add_subplot(111)\n",
    "\n",
    "scatter = ax.scatter((df_sub.gdp / df_sub.population), df_sub['Number of mass shootings'])\n",
    "ax.errorbar((df_sub.gdp / df_sub.population), df_sub['Number of mass shootings'], \n",
    "    yerr = np.sqrt(df_sub['Number of mass shootings'] * 1.0), fmt = '.')\n",
    "ax.set_xlabel(\"GDP per capita\")\n",
    "ax.set_ylabel(\"Number of mass shooting per person\")\n",
    "ax.set_ylim()\n",
    "pl.show()\n",
    "print (\"Number of mass shooting vs GDP per capita, \" + \n",
    "       \"errors represent Poisson statistics.\\n\" + \n",
    "       \"The datapoint to the top middle of the plot is the USA, \" + \n",
    "       \"which has the highest number of mass shootings\")"
   ]
  },
  {
   "cell_type": "markdown",
   "metadata": {},
   "source": [
    "## plot the average number of civilian fire arms per person\n",
    "first without errors, then with errors. are there  points that look like outliers?"
   ]
  },
  {
   "cell_type": "code",
   "execution_count": 94,
   "metadata": {
    "ExecuteTime": {
     "end_time": "2017-10-12T07:17:52.778486",
     "start_time": "2017-10-12T07:17:52.768299"
    },
    "run_control": {
     "frozen": false,
     "read_only": false
    }
   },
   "outputs": [
    {
     "data": {
      "text/html": [
       "<div>\n",
       "<style>\n",
       "    .dataframe thead tr:only-child th {\n",
       "        text-align: right;\n",
       "    }\n",
       "\n",
       "    .dataframe thead th {\n",
       "        text-align: left;\n",
       "    }\n",
       "\n",
       "    .dataframe tbody tr th {\n",
       "        vertical-align: top;\n",
       "    }\n",
       "</style>\n",
       "<table border=\"1\" class=\"dataframe\">\n",
       "  <thead>\n",
       "    <tr style=\"text-align: right;\">\n",
       "      <th></th>\n",
       "      <th>Country/Territory</th>\n",
       "      <th>Average total all civilian firearms</th>\n",
       "      <th>population</th>\n",
       "      <th>gdp</th>\n",
       "      <th>Number of homicides by firearm</th>\n",
       "      <th>Guns/100 inhabitants</th>\n",
       "      <th>Number of mass shootings</th>\n",
       "      <th>shootingspp</th>\n",
       "    </tr>\n",
       "  </thead>\n",
       "  <tbody>\n",
       "    <tr>\n",
       "      <th>0</th>\n",
       "      <td>Australia</td>\n",
       "      <td>3050000.0</td>\n",
       "      <td>22728254.0</td>\n",
       "      <td>1.538194e+12</td>\n",
       "      <td>30.0</td>\n",
       "      <td>15.0</td>\n",
       "      <td>4</td>\n",
       "      <td>0.000176</td>\n",
       "    </tr>\n",
       "    <tr>\n",
       "      <th>1</th>\n",
       "      <td>Austria</td>\n",
       "      <td>2500000.0</td>\n",
       "      <td>8429991.0</td>\n",
       "      <td>4.074516e+11</td>\n",
       "      <td>18.0</td>\n",
       "      <td>30.4</td>\n",
       "      <td>1</td>\n",
       "      <td>0.000119</td>\n",
       "    </tr>\n",
       "    <tr>\n",
       "      <th>2</th>\n",
       "      <td>Canada</td>\n",
       "      <td>9950000.0</td>\n",
       "      <td>34750545.0</td>\n",
       "      <td>1.824289e+12</td>\n",
       "      <td>173.0</td>\n",
       "      <td>30.8</td>\n",
       "      <td>4</td>\n",
       "      <td>0.000115</td>\n",
       "    </tr>\n",
       "    <tr>\n",
       "      <th>3</th>\n",
       "      <td>Denmark</td>\n",
       "      <td>650000.0</td>\n",
       "      <td>5591572.0</td>\n",
       "      <td>3.271489e+11</td>\n",
       "      <td>15.0</td>\n",
       "      <td>12.0</td>\n",
       "      <td>0</td>\n",
       "      <td>0.000000</td>\n",
       "    </tr>\n",
       "    <tr>\n",
       "      <th>4</th>\n",
       "      <td>Finland</td>\n",
       "      <td>2400000.0</td>\n",
       "      <td>5413971.0</td>\n",
       "      <td>2.567065e+11</td>\n",
       "      <td>24.0</td>\n",
       "      <td>45.3</td>\n",
       "      <td>2</td>\n",
       "      <td>0.000369</td>\n",
       "    </tr>\n",
       "    <tr>\n",
       "      <th>5</th>\n",
       "      <td>France</td>\n",
       "      <td>19000000.0</td>\n",
       "      <td>65659790.0</td>\n",
       "      <td>2.681416e+12</td>\n",
       "      <td>35.0</td>\n",
       "      <td>31.2</td>\n",
       "      <td>6</td>\n",
       "      <td>0.000091</td>\n",
       "    </tr>\n",
       "    <tr>\n",
       "      <th>6</th>\n",
       "      <td>Germany</td>\n",
       "      <td>25000000.0</td>\n",
       "      <td>80425823.0</td>\n",
       "      <td>3.543984e+12</td>\n",
       "      <td>158.0</td>\n",
       "      <td>30.3</td>\n",
       "      <td>7</td>\n",
       "      <td>0.000087</td>\n",
       "    </tr>\n",
       "    <tr>\n",
       "      <th>7</th>\n",
       "      <td>Greece</td>\n",
       "      <td>2500000.0</td>\n",
       "      <td>11045011.0</td>\n",
       "      <td>2.456707e+11</td>\n",
       "      <td>29.0</td>\n",
       "      <td>22.5</td>\n",
       "      <td>0</td>\n",
       "      <td>0.000000</td>\n",
       "    </tr>\n",
       "    <tr>\n",
       "      <th>8</th>\n",
       "      <td>Hungary</td>\n",
       "      <td>560000.0</td>\n",
       "      <td>9920362.0</td>\n",
       "      <td>1.273211e+11</td>\n",
       "      <td>7.0</td>\n",
       "      <td>5.5</td>\n",
       "      <td>0</td>\n",
       "      <td>0.000000</td>\n",
       "    </tr>\n",
       "    <tr>\n",
       "      <th>9</th>\n",
       "      <td>Iceland</td>\n",
       "      <td>90000.0</td>\n",
       "      <td>320716.0</td>\n",
       "      <td>1.421858e+10</td>\n",
       "      <td>0.0</td>\n",
       "      <td>30.3</td>\n",
       "      <td>0</td>\n",
       "      <td>0.000000</td>\n",
       "    </tr>\n",
       "    <tr>\n",
       "      <th>10</th>\n",
       "      <td>Ireland</td>\n",
       "      <td>360000.0</td>\n",
       "      <td>4586897.0</td>\n",
       "      <td>2.258192e+11</td>\n",
       "      <td>21.0</td>\n",
       "      <td>8.6</td>\n",
       "      <td>0</td>\n",
       "      <td>0.000000</td>\n",
       "    </tr>\n",
       "    <tr>\n",
       "      <th>11</th>\n",
       "      <td>Italy</td>\n",
       "      <td>7000000.0</td>\n",
       "      <td>59539717.0</td>\n",
       "      <td>2.072823e+12</td>\n",
       "      <td>417.0</td>\n",
       "      <td>11.9</td>\n",
       "      <td>0</td>\n",
       "      <td>0.000000</td>\n",
       "    </tr>\n",
       "    <tr>\n",
       "      <th>12</th>\n",
       "      <td>Japan</td>\n",
       "      <td>710000.0</td>\n",
       "      <td>127629000.0</td>\n",
       "      <td>6.203213e+12</td>\n",
       "      <td>11.0</td>\n",
       "      <td>0.6</td>\n",
       "      <td>0</td>\n",
       "      <td>0.000000</td>\n",
       "    </tr>\n",
       "    <tr>\n",
       "      <th>13</th>\n",
       "      <td>Luxembourg</td>\n",
       "      <td>70000.0</td>\n",
       "      <td>530946.0</td>\n",
       "      <td>5.667796e+10</td>\n",
       "      <td>3.0</td>\n",
       "      <td>15.3</td>\n",
       "      <td>0</td>\n",
       "      <td>0.000000</td>\n",
       "    </tr>\n",
       "    <tr>\n",
       "      <th>14</th>\n",
       "      <td>New Zealand</td>\n",
       "      <td>925000.0</td>\n",
       "      <td>4408100.0</td>\n",
       "      <td>1.761929e+11</td>\n",
       "      <td>7.0</td>\n",
       "      <td>22.6</td>\n",
       "      <td>3</td>\n",
       "      <td>0.000681</td>\n",
       "    </tr>\n",
       "    <tr>\n",
       "      <th>15</th>\n",
       "      <td>Norway</td>\n",
       "      <td>1400000.0</td>\n",
       "      <td>5018573.0</td>\n",
       "      <td>5.097049e+11</td>\n",
       "      <td>2.0</td>\n",
       "      <td>31.3</td>\n",
       "      <td>1</td>\n",
       "      <td>0.000199</td>\n",
       "    </tr>\n",
       "    <tr>\n",
       "      <th>16</th>\n",
       "      <td>Poland</td>\n",
       "      <td>510000.0</td>\n",
       "      <td>38063164.0</td>\n",
       "      <td>5.003443e+11</td>\n",
       "      <td>35.0</td>\n",
       "      <td>1.3</td>\n",
       "      <td>0</td>\n",
       "      <td>0.000000</td>\n",
       "    </tr>\n",
       "    <tr>\n",
       "      <th>17</th>\n",
       "      <td>Portugal</td>\n",
       "      <td>900000.0</td>\n",
       "      <td>10514844.0</td>\n",
       "      <td>2.163682e+11</td>\n",
       "      <td>44.0</td>\n",
       "      <td>8.5</td>\n",
       "      <td>1</td>\n",
       "      <td>0.000095</td>\n",
       "    </tr>\n",
       "    <tr>\n",
       "      <th>18</th>\n",
       "      <td>Spain</td>\n",
       "      <td>4500000.0</td>\n",
       "      <td>46773055.0</td>\n",
       "      <td>1.335946e+12</td>\n",
       "      <td>90.0</td>\n",
       "      <td>10.4</td>\n",
       "      <td>1</td>\n",
       "      <td>0.000021</td>\n",
       "    </tr>\n",
       "    <tr>\n",
       "      <th>19</th>\n",
       "      <td>Sweden</td>\n",
       "      <td>2800000.0</td>\n",
       "      <td>9519374.0</td>\n",
       "      <td>5.438806e+11</td>\n",
       "      <td>37.0</td>\n",
       "      <td>31.6</td>\n",
       "      <td>2</td>\n",
       "      <td>0.000210</td>\n",
       "    </tr>\n",
       "    <tr>\n",
       "      <th>20</th>\n",
       "      <td>Switzerland</td>\n",
       "      <td>3400000.0</td>\n",
       "      <td>7996861.0</td>\n",
       "      <td>6.650541e+11</td>\n",
       "      <td>57.0</td>\n",
       "      <td>45.7</td>\n",
       "      <td>2</td>\n",
       "      <td>0.000250</td>\n",
       "    </tr>\n",
       "    <tr>\n",
       "      <th>21</th>\n",
       "      <td>United States</td>\n",
       "      <td>270000000.0</td>\n",
       "      <td>313998379.0</td>\n",
       "      <td>1.615526e+13</td>\n",
       "      <td>9146.0</td>\n",
       "      <td>88.8</td>\n",
       "      <td>78</td>\n",
       "      <td>0.000248</td>\n",
       "    </tr>\n",
       "  </tbody>\n",
       "</table>\n",
       "</div>"
      ],
      "text/plain": [
       "   Country/Territory  Average total all civilian firearms   population  \\\n",
       "0          Australia                            3050000.0   22728254.0   \n",
       "1            Austria                            2500000.0    8429991.0   \n",
       "2             Canada                            9950000.0   34750545.0   \n",
       "3            Denmark                             650000.0    5591572.0   \n",
       "4            Finland                            2400000.0    5413971.0   \n",
       "5             France                           19000000.0   65659790.0   \n",
       "6            Germany                           25000000.0   80425823.0   \n",
       "7             Greece                            2500000.0   11045011.0   \n",
       "8            Hungary                             560000.0    9920362.0   \n",
       "9            Iceland                              90000.0     320716.0   \n",
       "10           Ireland                             360000.0    4586897.0   \n",
       "11             Italy                            7000000.0   59539717.0   \n",
       "12             Japan                             710000.0  127629000.0   \n",
       "13        Luxembourg                              70000.0     530946.0   \n",
       "14       New Zealand                             925000.0    4408100.0   \n",
       "15            Norway                            1400000.0    5018573.0   \n",
       "16            Poland                             510000.0   38063164.0   \n",
       "17          Portugal                             900000.0   10514844.0   \n",
       "18             Spain                            4500000.0   46773055.0   \n",
       "19            Sweden                            2800000.0    9519374.0   \n",
       "20       Switzerland                            3400000.0    7996861.0   \n",
       "21     United States                          270000000.0  313998379.0   \n",
       "\n",
       "             gdp  Number of homicides by firearm  Guns/100 inhabitants  \\\n",
       "0   1.538194e+12                            30.0                  15.0   \n",
       "1   4.074516e+11                            18.0                  30.4   \n",
       "2   1.824289e+12                           173.0                  30.8   \n",
       "3   3.271489e+11                            15.0                  12.0   \n",
       "4   2.567065e+11                            24.0                  45.3   \n",
       "5   2.681416e+12                            35.0                  31.2   \n",
       "6   3.543984e+12                           158.0                  30.3   \n",
       "7   2.456707e+11                            29.0                  22.5   \n",
       "8   1.273211e+11                             7.0                   5.5   \n",
       "9   1.421858e+10                             0.0                  30.3   \n",
       "10  2.258192e+11                            21.0                   8.6   \n",
       "11  2.072823e+12                           417.0                  11.9   \n",
       "12  6.203213e+12                            11.0                   0.6   \n",
       "13  5.667796e+10                             3.0                  15.3   \n",
       "14  1.761929e+11                             7.0                  22.6   \n",
       "15  5.097049e+11                             2.0                  31.3   \n",
       "16  5.003443e+11                            35.0                   1.3   \n",
       "17  2.163682e+11                            44.0                   8.5   \n",
       "18  1.335946e+12                            90.0                  10.4   \n",
       "19  5.438806e+11                            37.0                  31.6   \n",
       "20  6.650541e+11                            57.0                  45.7   \n",
       "21  1.615526e+13                          9146.0                  88.8   \n",
       "\n",
       "    Number of mass shootings  shootingspp  \n",
       "0                          4     0.000176  \n",
       "1                          1     0.000119  \n",
       "2                          4     0.000115  \n",
       "3                          0     0.000000  \n",
       "4                          2     0.000369  \n",
       "5                          6     0.000091  \n",
       "6                          7     0.000087  \n",
       "7                          0     0.000000  \n",
       "8                          0     0.000000  \n",
       "9                          0     0.000000  \n",
       "10                         0     0.000000  \n",
       "11                         0     0.000000  \n",
       "12                         0     0.000000  \n",
       "13                         0     0.000000  \n",
       "14                         3     0.000681  \n",
       "15                         1     0.000199  \n",
       "16                         0     0.000000  \n",
       "17                         1     0.000095  \n",
       "18                         1     0.000021  \n",
       "19                         2     0.000210  \n",
       "20                         2     0.000250  \n",
       "21                        78     0.000248  "
      ]
     },
     "execution_count": 94,
     "metadata": {},
     "output_type": "execute_result"
    }
   ],
   "source": [
    "df_sub['shootingspp'] = df_sub[\"Number of mass shootings\"] / df_sub['population'] * 1e3\n",
    "df_sub"
   ]
  },
  {
   "cell_type": "markdown",
   "metadata": {},
   "source": [
    "## plot the average number of homicide by fire arms per person\n",
    "first as a histogram\n",
    "\n",
    "then against the country GDP, with statistical errors. are there  points that look like outliers?"
   ]
  },
  {
   "cell_type": "code",
   "execution_count": 104,
   "metadata": {},
   "outputs": [
    {
     "data": {
      "text/plain": [
       "<matplotlib.text.Text at 0x10b05ab38>"
      ]
     },
     "execution_count": 104,
     "metadata": {},
     "output_type": "execute_result"
    },
    {
     "data": {
      "image/png": "[encoded data removed]",
      "text/plain": [
       "<matplotlib.figure.Figure at 0x10af81d30>"
      ]
     },
     "metadata": {},
     "output_type": "display_data"
    }
   ],
   "source": [
    "fig, ax = plt.subplots()\n",
    "ax.hist(df_sub['Number of homicides by firearm'] / df_sub['population'] * 1000)\n",
    "ax.set_xlabel('Homicides by firearm per 1000 people', fontsize =15);\n",
    "ax.set_ylabel('Count', fontsize =15);\n",
    "pl.title('Histogram of Homicides by firearm per 1k People', fontsize =15)"
   ]
  },
  {
   "cell_type": "markdown",
   "metadata": {
    "ExecuteTime": {
     "end_time": "2017-10-12T07:53:17.910541",
     "start_time": "2017-10-12T07:53:17.506477"
    }
   },
   "source": [
    "Number of Homicides by firerarm per 1000 people.  The United States is the country on the far right.\n",
    "The USA has both the highest number of total homicides and per capita homicide of countries in this list.\n"
   ]
  },
  {
   "cell_type": "markdown",
   "metadata": {},
   "source": [
    "## plot the number of  homicides by fire arm against the number of civilian firearms. plot the  US in a different color\n",
    "with and without errorbars"
   ]
  },
  {
   "cell_type": "code",
   "execution_count": 139,
   "metadata": {},
   "outputs": [
    {
     "data": {
      "text/plain": [
       "<matplotlib.text.Text at 0x10ab59438>"
      ]
     },
     "execution_count": 139,
     "metadata": {},
     "output_type": "execute_result"
    },
    {
     "data": {
      "image/png": "[encoded data removed]",
      "text/plain": [
       "<matplotlib.figure.Figure at 0x1096896d8>"
      ]
     },
     "metadata": {},
     "output_type": "display_data"
    }
   ],
   "source": [
    "fig = pl.figure(figsize=(10,5)) \n",
    "ax = fig.add_subplot(111)\n",
    "\n",
    "scatter_1 = ax.scatter(df_sub['Average total all civilian firearms'][:21], \n",
    "                       df_sub['Number of homicides by firearm'][:21], c='blue')\n",
    "scatter_2 = ax.scatter(df_sub['Average total all civilian firearms'][21], \n",
    "                       df_sub['Number of homicides by firearm'][21], c='red')\n",
    "ax.set_xlabel(\"Average total all civilian firearms\", fontsize = 15)\n",
    "ax.set_ylabel(\"Number of homicides by firearm\", fontsize = 15)\n",
    "pl.title('Civilian Firearms vs. Homicide by Firearm', fontsize =15)"
   ]
  },
  {
   "cell_type": "markdown",
   "metadata": {},
   "source": [
    "The USA has much more civilian firearms and homicides per year than any of the other countries on in this data."
   ]
  },
  {
   "cell_type": "code",
   "execution_count": 140,
   "metadata": {},
   "outputs": [
    {
     "data": {
      "text/plain": [
       "<matplotlib.text.Text at 0x10b24bf28>"
      ]
     },
     "execution_count": 140,
     "metadata": {},
     "output_type": "execute_result"
    },
    {
     "data": {
      "image/png": "[encoded data removed]",
      "text/plain": [
       "<matplotlib.figure.Figure at 0x10a6be898>"
      ]
     },
     "metadata": {},
     "output_type": "display_data"
    }
   ],
   "source": [
    "fig = pl.figure(figsize=(10,5)) \n",
    "ax = fig.add_subplot(111)\n",
    "\n",
    "scatter_1 = ax.scatter(df_sub['Average total all civilian firearms'][:21], \n",
    "                       df_sub['Number of homicides by firearm'][:21], c='blue')\n",
    "scatter_2 = ax.scatter(df_sub['Average total all civilian firearms'][21], \n",
    "                       df_sub['Number of homicides by firearm'][21], c='red')\n",
    "ax.errorbar(df_sub['Average total all civilian firearms'], \n",
    "    df_sub['Number of homicides by firearm'], \n",
    "    yerr = np.sqrt(df_sub['Number of homicides by firearm'] * 1.0), fmt = '.', c= 'black')\n",
    "ax.set_xlabel(\"Average total all civilian firearms\", fontsize = 15)\n",
    "ax.set_ylabel(\"Number of homicides by firearm\", fontsize = 15)\n",
    "pl.title('Civilian Firearms vs. Homicide by Firearm', fontsize =15)"
   ]
  },
  {
   "cell_type": "markdown",
   "metadata": {},
   "source": [
    "The USA has much more civilian firearms and homicides per year than any of the other countries on in this data. The Error bars are extremely small relative to the number of shootings for the USA."
   ]
  },
  {
   "cell_type": "markdown",
   "metadata": {},
   "source": [
    "## plot the number of  mass shootings against the number of civilian firearms. plot the  US in a different color\n",
    "with and without errorbars"
   ]
  },
  {
   "cell_type": "code",
   "execution_count": 141,
   "metadata": {},
   "outputs": [
    {
     "data": {
      "text/plain": [
       "<matplotlib.text.Text at 0x10bef2fd0>"
      ]
     },
     "execution_count": 141,
     "metadata": {},
     "output_type": "execute_result"
    },
    {
     "data": {
      "image/png": "[encoded data removed]",
      "text/plain": [
       "<matplotlib.figure.Figure at 0x10b9a6898>"
      ]
     },
     "metadata": {},
     "output_type": "display_data"
    }
   ],
   "source": [
    "fig = pl.figure(figsize=(10,5)) \n",
    "ax = fig.add_subplot(111)\n",
    "\n",
    "scatter_1 = ax.scatter(df_sub['Average total all civilian firearms'][:21], \n",
    "                       df_sub['Number of mass shootings'][:21], c='blue')\n",
    "scatter_2 = ax.scatter(df_sub['Average total all civilian firearms'][21], \n",
    "                       df_sub['Number of mass shootings'][21], c='red')\n",
    "ax.set_xlabel(\"Average total all civilian firearms\", fontsize = 15)\n",
    "ax.set_ylabel(\"Number of mass shootings\", fontsize = 15)\n",
    "pl.title('Civilian Firearms vs. Mass Shootings', fontsize =15)"
   ]
  },
  {
   "cell_type": "markdown",
   "metadata": {},
   "source": [
    "The USA has far more mass shootings than other countries as well as number of civilian firearms."
   ]
  },
  {
   "cell_type": "code",
   "execution_count": 142,
   "metadata": {},
   "outputs": [
    {
     "data": {
      "text/plain": [
       "<matplotlib.text.Text at 0x10c1fc390>"
      ]
     },
     "execution_count": 142,
     "metadata": {},
     "output_type": "execute_result"
    },
    {
     "data": {
      "image/png": "[encoded data removed]",
      "text/plain": [
       "<matplotlib.figure.Figure at 0x10c19a860>"
      ]
     },
     "metadata": {},
     "output_type": "display_data"
    }
   ],
   "source": [
    "fig = pl.figure(figsize=(10,5)) \n",
    "ax = fig.add_subplot(111)\n",
    "\n",
    "scatter_1 = ax.scatter(df_sub['Average total all civilian firearms'][:21], \n",
    "                       df_sub['Number of mass shootings'][:21], c='blue')\n",
    "scatter_2 = ax.scatter(df_sub['Average total all civilian firearms'][21], \n",
    "                       df_sub['Number of mass shootings'][21], c='red')\n",
    "ax.errorbar(df_sub['Average total all civilian firearms'], \n",
    "    df_sub['Number of mass shootings'], \n",
    "    yerr = np.sqrt(df_sub['Number of mass shootings'] * 1.0), fmt = '.', c= 'black')\n",
    "ax.set_xlabel(\"Average total all civilian firearms\", fontsize = 15)\n",
    "ax.set_ylabel(\"Number of mass shootings\", fontsize = 15)\n",
    "pl.title('Civilian Firearms vs. Homicide by Firearm', fontsize =15)"
   ]
  },
  {
   "cell_type": "markdown",
   "metadata": {},
   "source": [
    " The error bars show a high error is possible for the number of mass shootings in the USA, but still with maximum negative error the US would be well above other countries\n"
   ]
  },
  {
   "cell_type": "markdown",
   "metadata": {},
   "source": [
    "# Modeling\n",
    "\n",
    "## fit a line to the Number of mass shootings  per person as a function of Average total all civilian firearms per person. \n",
    "Before you do it it is a good idea to make sure that both quantities are roughly of the same order of magnitude (unity). (You can simply divide by the order of magnitude of the mean of the sample to obtain this). Use\n",
    "\n",
    "    - statsmodels OLS\n",
    "    - statsmodels WLS\n",
    "    - seaborn\n",
    "    - choose one of\n",
    "        -- creating a function that calculates the residuals and minimizing that function\n",
    "        -- analytical solution http://mathworld.wolfram.com/LeastSquaresFitting.html\n",
    "        -- numpy.polyfit() - https://docs.scipy.org/doc/numpy-1.13.0/reference/generated/numpy.polyfit.html\n",
    "    \n",
    "\n",
    "WLS: that is the weighted square fit. The statsmodel package WLS function allows you to take the uncertainties of each data point into account when you fit your model. It takes the parameter weights, which is the inverse of your errors:\n",
    "weights = 1.0/df.yerror\n",
    "Notice that \n",
    "    a - sqrt(0) = 0\n",
    "    b - 1/0 = infinity\n",
    "    c - you cannot have weight that are infinity in your fit. Please come up with a solution and justify it.\n",
    "\n",
    "\n",
    "the latter three you can learn about in this example: https://github.com/fedhere/PUI2017_fb55/blob/master/Lab5_fb55/genderIncomeBias.ipynb\n",
    "Since we did not discuss these, I will add some notes to the repo in the afternoon.\n",
    "\n",
    "Use the seaborn python package built in regression function  to plot the regression confidence intervals. \n",
    "\n",
    "import seaborn  as sns\n",
    "sns.regplot(x=\"x\", y=\"y\", data=df);\n",
    "\n",
    "\n"
   ]
  },
  {
   "cell_type": "code",
   "execution_count": 161,
   "metadata": {},
   "outputs": [
    {
     "name": "stderr",
     "output_type": "stream",
     "text": [
      "/Library/Frameworks/Python.framework/Versions/3.6/lib/python3.6/site-packages/statsmodels/compat/pandas.py:56: FutureWarning: The pandas.core.datetools module is deprecated and will be removed in a future version. Please use the pandas.tseries module instead.\n",
      "  from pandas.core import datetools\n"
     ]
    }
   ],
   "source": [
    "import seaborn as sns \n",
    "import statsmodels.api as sm"
   ]
  },
  {
   "cell_type": "code",
   "execution_count": 147,
   "metadata": {},
   "outputs": [
    {
     "data": {
      "text/plain": [
       "0     0.134194\n",
       "1     0.296560\n",
       "2     0.286326\n",
       "3     0.116246\n",
       "4     0.443298\n",
       "5     0.289370\n",
       "6     0.310845\n",
       "7     0.226347\n",
       "8     0.056450\n",
       "9     0.280622\n",
       "10    0.078484\n",
       "11    0.117569\n",
       "12    0.005563\n",
       "13    0.131840\n",
       "14    0.209841\n",
       "15    0.278964\n",
       "16    0.013399\n",
       "17    0.085593\n",
       "18    0.096209\n",
       "19    0.294137\n",
       "20    0.425167\n",
       "21    0.859877\n",
       "Name: civ_arms_per_person, dtype: float64"
      ]
     },
     "execution_count": 147,
     "metadata": {},
     "output_type": "execute_result"
    }
   ],
   "source": [
    "df_sub['civ_arms_per_person'] = df_sub['Average total all civilian firearms'] / df_sub['population']\n",
    "df_sub['civ_arms_per_person']"
   ]
  },
  {
   "cell_type": "code",
   "execution_count": 149,
   "metadata": {},
   "outputs": [
    {
     "data": {
      "text/plain": [
       "0     1.454227\n",
       "1     0.980192\n",
       "2     0.951123\n",
       "3     0.000000\n",
       "4     3.052477\n",
       "5     0.755075\n",
       "6     0.719185\n",
       "7     0.000000\n",
       "8     0.000000\n",
       "9     0.000000\n",
       "10    0.000000\n",
       "11    0.000000\n",
       "12    0.000000\n",
       "13    0.000000\n",
       "14    5.623519\n",
       "15    1.646486\n",
       "16    0.000000\n",
       "17    0.785843\n",
       "18    0.176662\n",
       "19    1.736041\n",
       "20    2.066564\n",
       "21    2.052606\n",
       "Name: mass_shoot_per_person, dtype: float64"
      ]
     },
     "execution_count": 149,
     "metadata": {},
     "output_type": "execute_result"
    }
   ],
   "source": [
    "df_sub['mass_shoot_per_person'] = df_sub['Number of mass shootings'] / df_sub['population']\n",
    "df_sub['mass_shoot_per_person']  = df_sub['mass_shoot_per_person'] / np.mean(df_sub['mass_shoot_per_person'])\n",
    "df_sub['mass_shoot_per_person']\n",
    "#better dist"
   ]
  },
  {
   "cell_type": "code",
   "execution_count": 156,
   "metadata": {},
   "outputs": [
    {
     "data": {
      "text/plain": [
       "[<matplotlib.text.Text at 0x110200b70>,\n",
       " <matplotlib.text.Text at 0x1101f0e80>,\n",
       " <matplotlib.text.Text at 0x11027f198>]"
      ]
     },
     "execution_count": 156,
     "metadata": {},
     "output_type": "execute_result"
    },
    {
     "data": {
      "image/png": "[encoded data removed]",
      "text/plain": [
       "<matplotlib.figure.Figure at 0x11019d940>"
      ]
     },
     "metadata": {},
     "output_type": "display_data"
    }
   ],
   "source": [
    "ax = sns.regplot(df_sub['civ_arms_per_person'], df_sub['mass_shoot_per_person'], color=\"g\",  fit_reg=False)\n",
    "ax.set(xlabel='Fire Arms', ylabel='Mass Shootings', title = 'Fire Arms vs. Mass Shootings')"
   ]
  },
  {
   "cell_type": "markdown",
   "metadata": {},
   "source": [
    "Scaled Fire arm ownership vs. Scaled Mass Shootings shown without a model"
   ]
  },
  {
   "cell_type": "code",
   "execution_count": 177,
   "metadata": {
    "collapsed": true
   },
   "outputs": [],
   "source": [
    "#OLS \n",
    "ols_result = sm.regression.linear_model.OLS(df_sub['mass_shoot_per_person'], \n",
    "                                            sm.add_constant(df_sub['civ_arms_per_person'])).fit()\n",
    "beta0_ols, beta1_ols = ols_result.params"
   ]
  },
  {
   "cell_type": "code",
   "execution_count": 215,
   "metadata": {},
   "outputs": [
    {
     "data": {
      "text/plain": [
       "<matplotlib.text.Text at 0x112b6e668>"
      ]
     },
     "execution_count": 215,
     "metadata": {},
     "output_type": "execute_result"
    },
    {
     "data": {
      "image/png": "[encoded data removed]",
      "text/plain": [
       "<matplotlib.figure.Figure at 0x112fb2860>"
      ]
     },
     "metadata": {},
     "output_type": "display_data"
    }
   ],
   "source": [
    "dummy_x = np.linspace(0, 0.9, 100)\n",
    "\n",
    "sns.regplot(df_sub['civ_arms_per_person'], df_sub['mass_shoot_per_person'], color=\"g\",  fit_reg=False) \n",
    "plt.plot(dummy_x, dummy_x * beta1_ols + beta0_ols)\n",
    "plt.xlabel('Fire Arms', fontsize = 15)\n",
    "plt.ylabel('Mass Shootings', fontsize = 15)\n",
    "plt.title('Fire Arms vs. Mass Shootings with OLS fit')\n",
    "# I could not get the legend to show up"
   ]
  },
  {
   "cell_type": "markdown",
   "metadata": {},
   "source": [
    "The OLS trendline shows an trend toward an increase in mass shooting for the more civilian owned firearms in a country."
   ]
  },
  {
   "cell_type": "code",
   "execution_count": 248,
   "metadata": {
    "collapsed": true
   },
   "outputs": [],
   "source": [
    "#WLS\n",
    "# I found the highest non infinity values for weights were 1, so I changed all infinite values to 1\n",
    "weights = 1 / (np.sqrt(df_sub['Number of mass shootings'] * 1.0))\n",
    "for i in range(len(weights)):\n",
    "    if weights[i] > 1 :\n",
    "        weights[i] = 1\n",
    "\n",
    "wls_result = sm.regression.linear_model.WLS(df_sub['mass_shoot_per_person'], \n",
    "                                            sm.add_constant(df_sub['civ_arms_per_person']), \n",
    "                                            weights = weights).fit()\n",
    "beta0_wls, beta1_wls = wls_result.params"
   ]
  },
  {
   "cell_type": "code",
   "execution_count": 249,
   "metadata": {},
   "outputs": [
    {
     "data": {
      "text/plain": [
       "[<matplotlib.text.Text at 0x10ba547b8>,\n",
       " <matplotlib.text.Text at 0x1126eed68>,\n",
       " <matplotlib.text.Text at 0x1122694e0>]"
      ]
     },
     "execution_count": 249,
     "metadata": {},
     "output_type": "execute_result"
    },
    {
     "data": {
      "image/png": "[encoded data removed]",
      "text/plain": [
       "<matplotlib.figure.Figure at 0x1120d7080>"
      ]
     },
     "metadata": {},
     "output_type": "display_data"
    }
   ],
   "source": [
    "ax = sns.regplot(df_sub['civ_arms_per_person'], df_sub['mass_shoot_per_person'], color=\"g\",  fit_reg=False) \n",
    "pl.plot(dummy_x, dummy_x * beta1_wls + beta0_wls, c = 'red')\n",
    "pl.plot(dummy_x, dummy_x * beta1_ols + beta0_ols, c = 'blue')\n",
    "ax.set(xlabel='Fire Arms', ylabel='Mass Shootings', title = 'Fire Arms vs. Mass Shootings with OLS and WLS fits')\n",
    "# I could not get the legend to show up"
   ]
  },
  {
   "cell_type": "markdown",
   "metadata": {},
   "source": [
    "The OLS trendline shows an trend toward an increase in mass shooting for the more civilian owned firearms in a country. The red trendine is the WLS trendline and the blue trendline is the OLS trendline."
   ]
  },
  {
   "cell_type": "code",
   "execution_count": 267,
   "metadata": {},
   "outputs": [
    {
     "data": {
      "text/plain": [
       "array([-0.00984838,  0.03585587,  0.12649256,  0.11052327])"
      ]
     },
     "execution_count": 267,
     "metadata": {},
     "output_type": "execute_result"
    }
   ],
   "source": [
    "# using np.polyfit i'll try a 3nd degree polynomial\n",
    "poly_result = np.polyfit(df_sub['mass_shoot_per_person'], df_sub['civ_arms_per_person'], deg=3)\n",
    "poly_result"
   ]
  },
  {
   "cell_type": "code",
   "execution_count": 271,
   "metadata": {},
   "outputs": [
    {
     "data": {
      "text/plain": [
       "0.035855870260839508"
      ]
     },
     "execution_count": 271,
     "metadata": {},
     "output_type": "execute_result"
    }
   ],
   "source": [
    "poly_result[1]"
   ]
  },
  {
   "cell_type": "code",
   "execution_count": 270,
   "metadata": {},
   "outputs": [
    {
     "data": {
      "text/plain": [
       "[<matplotlib.text.Text at 0x113b9b0b8>,\n",
       " <matplotlib.text.Text at 0x113bc9470>,\n",
       " <matplotlib.text.Text at 0x113dc52e8>]"
      ]
     },
     "execution_count": 270,
     "metadata": {},
     "output_type": "execute_result"
    },
    {
     "data": {
      "image/png": "[encoded data removed]",
      "text/plain": [
       "<matplotlib.figure.Figure at 0x113c0be10>"
      ]
     },
     "metadata": {},
     "output_type": "display_data"
    }
   ],
   "source": [
    "ax = sns.regplot(df_sub['civ_arms_per_person'], df_sub['mass_shoot_per_person'], color=\"g\",  fit_reg=False) \n",
    "pl.plot(dummy_x, dummy_x * beta1_wls + beta0_wls, c = 'red')\n",
    "pl.plot(dummy_x, dummy_x * beta1_ols + beta0_ols, c = 'blue')\n",
    "pl.plot(dummy_x, (poly_result[0] * (dummy_x ** 3))  + (poly_result[1] * (dummy_x ** 2)) +\n",
    "       (poly_result[2] * dummy_x)  + poly_result[3], c = 'purple')\n",
    "ax.set(xlabel='Fire Arms', ylabel='Mass Shootings', title = 'Fire Arms vs. Mass Shootings with OLS, WLS \\\n",
    "and 3rd degree polynomial fits')\n",
    "# I could not get the legend to show up"
   ]
  },
  {
   "cell_type": "markdown",
   "metadata": {
    "ExecuteTime": {
     "end_time": "2017-10-12T16:35:12.472517",
     "start_time": "2017-10-12T16:35:11.345016"
    }
   },
   "source": [
    "The OLS trendline shows an trend toward an increase in mass shooting for the more civilian owned firearms in a country. The red trendine is the WLS trendline, the blue trendline is the OLS trendline, the purple trendline is the 3rd degree polynomial. "
   ]
  },
  {
   "cell_type": "markdown",
   "metadata": {
    "ExecuteTime": {
     "end_time": "2017-10-12T16:21:08.019663",
     "start_time": "2017-10-12T16:21:08.010876"
    }
   },
   "source": [
    "## Extra credit: calculate the confidence interval by hand and also plot them \n",
    "you can use pylab.fill_between(x, yfit - ci, yfit + ci, alpha=0.5)"
   ]
  },
  {
   "cell_type": "markdown",
   "metadata": {},
   "source": [
    "**Confidence intervals: **\n",
    "there are three type of intervals in a linear regression, plot any one of them all three if you want - how do they compare to the seaborn plot?:\n",
    "\n",
    "1) Confidence intervals for the parameters slope and intercept\n",
    "\n",
    "2) Confidence interval for the average y value\n",
    "\n",
    "3) Prediction interval for a single y value"
   ]
  },
  {
   "cell_type": "markdown",
   "metadata": {},
   "source": [
    "1) __confidence interval of the  model parameters slope and intercept:__\n",
    "define sigma as the sum of the residuals over the square root of number n of observations. \n",
    "\n",
    "sigma: σ̂ =sqrt(Sum((Yoberved_i−Ypredicted_i)^2)/n)\n",
    "\n",
    "where the sum is over all observations\n",
    "\n",
    "Define t_alpha/2,n-2 the t statistics at (1-alpha/2) for a t distribution with n-2 degrees of freedom (you can calculate it with scipy\n",
    "tp = sp.stats.t.ppf(0.975, n-2)\n",
    "\n"
   ]
  },
  {
   "cell_type": "code",
   "execution_count": 29,
   "metadata": {
    "ExecuteTime": {
     "end_time": "2017-10-12T15:42:26.836222",
     "start_time": "2017-10-12T15:42:26.819963"
    }
   },
   "outputs": [
    {
     "data": {
      "image/png": "[encoded data removed]",
      "text/plain": [
       "<IPython.core.display.Image object>"
      ]
     },
     "execution_count": 29,
     "metadata": {},
     "output_type": "execute_result"
    }
   ],
   "source": [
    "from IPython.display import Image\n",
    "Image(filename=\"../Lab5_fb55/confidence_intervals_regression.png\")"
   ]
  },
  {
   "cell_type": "code",
   "execution_count": 30,
   "metadata": {
    "ExecuteTime": {
     "end_time": "2017-10-12T15:54:20.748008",
     "start_time": "2017-10-12T15:54:20.736381"
    }
   },
   "outputs": [
    {
     "data": {
      "image/png": "[encoded data removed]",
      "text/plain": [
       "<IPython.core.display.Image object>"
      ]
     },
     "execution_count": 30,
     "metadata": {},
     "output_type": "execute_result"
    }
   ],
   "source": [
    "from IPython.display import Image\n",
    "Image(filename=\"../Lab5_fb55/confidence_intervals_regression2.png\")"
   ]
  },
  {
   "cell_type": "markdown",
   "metadata": {},
   "source": [
    "[proof](https://onlinecourses.science.psu.edu/stat414/node/280)"
   ]
  },
  {
   "cell_type": "markdown",
   "metadata": {},
   "source": [
    "2) **A confidence interval for E(y | x) , the expected (average) value of y for a given x_**\n",
    "\n",
    "define s: residual standard error sy = sqrt(Sum((y_observed-y_predicted)^2)/(n-2))\n",
    "\n",
    "(note: n-2 is the degrees of freedom of the problem: observations - number of parameters - 1)\n",
    "\n",
    "the confidence interval for a given y(x*) is: \n",
    "\n",
    "y_predicted(x*) +/- t_(alpha/2)(n-2) * sy * sqrt( 1/n + (x* - mean(x)^2) / sum((x* - mean(x)^2)"
   ]
  },
  {
   "cell_type": "code",
   "execution_count": 33,
   "metadata": {
    "ExecuteTime": {
     "end_time": "2017-10-12T16:09:14.173143",
     "start_time": "2017-10-12T16:09:14.161088"
    }
   },
   "outputs": [
    {
     "data": {
      "image/png": "[encoded data removed]",
      "text/plain": [
       "<IPython.core.display.Image object>"
      ]
     },
     "execution_count": 33,
     "metadata": {},
     "output_type": "execute_result"
    }
   ],
   "source": [
    "from IPython.display import Image\n",
    "Image(filename=\"../Lab5_fb55/ciY.png\")"
   ]
  },
  {
   "cell_type": "markdown",
   "metadata": {},
   "source": [
    "3) **Confidence intervals for average y (predicted) values**\n",
    "\n",
    "y_predicted(x*) +/- t_(n-2) * sy * sqrt( 1 + 1/n + (x* - mean(x)^2) / sum((x* - mean(x)^2)\n",
    "\n",
    "very similar, but note the +1 in the square root"
   ]
  },
  {
   "cell_type": "code",
   "execution_count": 32,
   "metadata": {
    "ExecuteTime": {
     "end_time": "2017-10-12T16:08:46.077157",
     "start_time": "2017-10-12T16:08:46.067407"
    }
   },
   "outputs": [
    {
     "data": {
      "image/png": "[encoded data removed]",
      "text/plain": [
       "<IPython.core.display.Image object>"
      ]
     },
     "execution_count": 32,
     "metadata": {},
     "output_type": "execute_result"
    }
   ],
   "source": [
    "from IPython.display import Image\n",
    "Image(filename=\"../Lab5_fb55/ciYaverage.png\")"
   ]
  },
  {
   "cell_type": "code",
   "execution_count": 66,
   "metadata": {
    "ExecuteTime": {
     "end_time": "2017-10-12T16:36:39.238967",
     "start_time": "2017-10-12T16:36:38.688004"
    }
   },
   "outputs": [
    {
     "data": {
      "image/png": "[encoded data removed]",
      "text/plain": [
       "<matplotlib.figure.Figure at 0x115a9c290>"
      ]
     },
     "metadata": {},
     "output_type": "display_data"
    }
   ],
   "source": [
    "pl.figure()\n",
    "import seaborn  as sns\n",
    "sns.regplot(x=\"x\", y=\"y\", data=df_);\n",
    "\n",
    "pl.ylabel(\"Mass shootings\")\n",
    "pl.xlabel(\"Fire arms\");"
   ]
  },
  {
   "cell_type": "markdown",
   "metadata": {},
   "source": [
    "## Use the stsatsmodels.gaphics package to plot the influence plot. \n",
    "Read the package documentation to learn how to read this plot and extract the countries with the highest influence\n",
    "\n",
    "This is the topic of this week's assigned reading, so make sure you do the reading before you do this step. It will help you interpret the plot."
   ]
  },
  {
   "cell_type": "code",
   "execution_count": 273,
   "metadata": {},
   "outputs": [
    {
     "data": {
      "image/png": "[encoded data removed]",
      "text/plain": [
       "<matplotlib.figure.Figure at 0x113faa358>"
      ]
     },
     "metadata": {},
     "output_type": "display_data"
    }
   ],
   "source": [
    "sm.graphics.influence_plot(ols_result, alpha  = 0.05, criterion=\"cooks\");"
   ]
  },
  {
   "cell_type": "markdown",
   "metadata": {
    "ExecuteTime": {
     "end_time": "2017-10-11T07:46:21.766085",
     "start_time": "2017-10-11T07:46:21.412498"
    }
   },
   "source": [
    "In this plot we can see that the value from index 21 (USA) has a large leverage. This means that its values are far away from the mean.\n",
    "This makes sense because the US has a lot more shooting and guns than other countries.  The Y-axis shows the residuals. These show how far away the models predeicted value is from the data.  Our plot shows that the predicted value for index 14 (New Zealand) is very different from the value predicted by the model."
   ]
  },
  {
   "cell_type": "markdown",
   "metadata": {},
   "source": [
    "## Extra credit: calculate from scratch the stanrdardized residuals and the H leverage for the WLS model and discuss if there are any differences"
   ]
  },
  {
   "cell_type": "markdown",
   "metadata": {},
   "source": [
    "## Discuss your findings"
   ]
  },
  {
   "cell_type": "code",
   "execution_count": null,
   "metadata": {
    "collapsed": true
   },
   "outputs": [],
   "source": []
  }
 ],
 "metadata": {
  "anaconda-cloud": {},
  "kernelspec": {
   "display_name": "Python 3",
   "language": "python",
   "name": "python3"
  },
  "language_info": {
   "codemirror_mode": {
    "name": "ipython",
    "version": 3
   },
   "file_extension": ".py",
   "mimetype": "text/x-python",
   "name": "python",
   "nbconvert_exporter": "python",
   "pygments_lexer": "ipython3",
   "version": "3.6.1"
  },
  "latex_envs": {
   "LaTeX_envs_menu_present": true,
   "bibliofile": "biblio.bib",
   "cite_by": "apalike",
   "current_citInitial": 1,
   "eqLabelWithNumbers": true,
   "eqNumInitial": 1,
   "hotkeys": {
    "equation": "Ctrl-E",
    "itemize": "Ctrl-I"
   },
   "labels_anchors": false,
   "latex_user_defs": false,
   "report_style_numbering": false,
   "user_envs_cfg": false
  },
  "toc": {
   "colors": {
    "hover_highlight": "#DAA520",
    "running_highlight": "#FF0000",
    "selected_highlight": "#FFD700"
   },
   "moveMenuLeft": true,
   "nav_menu": {
    "height": "13px",
    "width": "251px"
   },
   "navigate_menu": true,
   "number_sections": true,
   "sideBar": true,
   "threshold": 4,
   "toc_cell": true,
   "toc_section_display": "block",
   "toc_window_display": true
  }
 },
 "nbformat": 4,
 "nbformat_minor": 1
}
