{
 "cells": [
  {
   "cell_type": "markdown",
   "metadata": {},
   "source": [
    "# Hypothesis \n",
    "\n",
    "\n",
    "Idea:\n",
    "Seniors will take shorter trips on Citi Bike than younger people.\n",
    "\n",
    "Null Hypothesis:\n",
    "The mean trip duration of seniors' rides is greater than or equal to that of younger people.\n",
    "\n",
    "H0:\n",
    "The mean trip duration of trips taken by people born before 1953 (65 year old senior citizen) is greater than or not more than 2 sigma lower of the mean those of other ages.\n",
    "\n",
    "$$ Mean(Senior Trip Duration) \\geq  Mean(Younger Trip Duration) $$\n",
    "\n",
    "H1:\n",
    "The mean trip duration of trips taken by people born before 1953 (65 year old senior citizen) is more than 2 sigma lower of the mean those of other ages.\n",
    "\n",
    "$$ Mean(Senior Trip Duration) <  Mean(Younger Trip Duration) $$\n",
    "\n",
    "I want to use the trip duration column and the birth year columns of the data.  I also want to remove all rows that have a NaN value in the birth year column.\n",
    "\n",
    "The data I'm going to use is from January July 2016 "
   ]
  },
  {
   "cell_type": "code",
   "execution_count": 1,
   "metadata": {
    "collapsed": false
   },
   "outputs": [
    {
     "name": "stdout",
     "output_type": "stream",
     "text": [
      "Populating the interactive namespace from numpy and matplotlib\n"
     ]
    },
    {
     "name": "stderr",
     "output_type": "stream",
     "text": [
      "/opt/rh/anaconda/root/envs/PUI2016_Python3/lib/python3.5/site-packages/IPython/html.py:14: ShimWarning: The `IPython.html` package has been deprecated. You should import from `notebook` instead. `IPython.html.widgets` has moved to `ipywidgets`.\n",
      "  \"`IPython.html.widgets` has moved to `ipywidgets`.\", ShimWarning)\n"
     ]
    }
   ],
   "source": [
    "import pandas as pd\n",
    "import pylab as pl\n",
    "import numpy as np\n",
    "import seaborn as sns\n",
    "import statsmodels.stats.weightstats as ws\n",
    "%pylab inline"
   ]
  },
  {
   "cell_type": "code",
   "execution_count": 2,
   "metadata": {
    "collapsed": false
   },
   "outputs": [
    {
     "name": "stdout",
     "output_type": "stream",
     "text": [
      "(1889588, 15)\n"
     ]
    },
    {
     "data": {
      "text/html": [
       "<div>\n",
       "<table border=\"1\" class=\"dataframe\">\n",
       "  <thead>\n",
       "    <tr style=\"text-align: right;\">\n",
       "      <th></th>\n",
       "      <th>tripduration</th>\n",
       "      <th>starttime</th>\n",
       "      <th>stoptime</th>\n",
       "      <th>start station id</th>\n",
       "      <th>start station name</th>\n",
       "      <th>start station latitude</th>\n",
       "      <th>start station longitude</th>\n",
       "      <th>end station id</th>\n",
       "      <th>end station name</th>\n",
       "      <th>end station latitude</th>\n",
       "      <th>end station longitude</th>\n",
       "      <th>bikeid</th>\n",
       "      <th>usertype</th>\n",
       "      <th>birth year</th>\n",
       "      <th>gender</th>\n",
       "    </tr>\n",
       "  </thead>\n",
       "  <tbody>\n",
       "    <tr>\n",
       "      <th>0</th>\n",
       "      <td>923</td>\n",
       "      <td>1/1/2016 00:00:41</td>\n",
       "      <td>1/1/2016 00:16:04</td>\n",
       "      <td>268</td>\n",
       "      <td>Howard St &amp; Centre St</td>\n",
       "      <td>40.719105</td>\n",
       "      <td>-73.999733</td>\n",
       "      <td>3002</td>\n",
       "      <td>South End Ave &amp; Liberty St</td>\n",
       "      <td>40.711512</td>\n",
       "      <td>-74.015756</td>\n",
       "      <td>22285</td>\n",
       "      <td>Subscriber</td>\n",
       "      <td>1958.0</td>\n",
       "      <td>1</td>\n",
       "    </tr>\n",
       "    <tr>\n",
       "      <th>1</th>\n",
       "      <td>379</td>\n",
       "      <td>1/1/2016 00:00:45</td>\n",
       "      <td>1/1/2016 00:07:04</td>\n",
       "      <td>476</td>\n",
       "      <td>E 31 St &amp; 3 Ave</td>\n",
       "      <td>40.743943</td>\n",
       "      <td>-73.979661</td>\n",
       "      <td>498</td>\n",
       "      <td>Broadway &amp; W 32 St</td>\n",
       "      <td>40.748549</td>\n",
       "      <td>-73.988084</td>\n",
       "      <td>17827</td>\n",
       "      <td>Subscriber</td>\n",
       "      <td>1969.0</td>\n",
       "      <td>1</td>\n",
       "    </tr>\n",
       "    <tr>\n",
       "      <th>2</th>\n",
       "      <td>589</td>\n",
       "      <td>1/1/2016 00:00:48</td>\n",
       "      <td>1/1/2016 00:10:37</td>\n",
       "      <td>489</td>\n",
       "      <td>10 Ave &amp; W 28 St</td>\n",
       "      <td>40.750664</td>\n",
       "      <td>-74.001768</td>\n",
       "      <td>284</td>\n",
       "      <td>Greenwich Ave &amp; 8 Ave</td>\n",
       "      <td>40.739017</td>\n",
       "      <td>-74.002638</td>\n",
       "      <td>21997</td>\n",
       "      <td>Subscriber</td>\n",
       "      <td>1982.0</td>\n",
       "      <td>2</td>\n",
       "    </tr>\n",
       "    <tr>\n",
       "      <th>3</th>\n",
       "      <td>889</td>\n",
       "      <td>1/1/2016 00:01:06</td>\n",
       "      <td>1/1/2016 00:15:56</td>\n",
       "      <td>268</td>\n",
       "      <td>Howard St &amp; Centre St</td>\n",
       "      <td>40.719105</td>\n",
       "      <td>-73.999733</td>\n",
       "      <td>3002</td>\n",
       "      <td>South End Ave &amp; Liberty St</td>\n",
       "      <td>40.711512</td>\n",
       "      <td>-74.015756</td>\n",
       "      <td>22794</td>\n",
       "      <td>Subscriber</td>\n",
       "      <td>1961.0</td>\n",
       "      <td>2</td>\n",
       "    </tr>\n",
       "    <tr>\n",
       "      <th>4</th>\n",
       "      <td>1480</td>\n",
       "      <td>1/1/2016 00:01:12</td>\n",
       "      <td>1/1/2016 00:25:52</td>\n",
       "      <td>2006</td>\n",
       "      <td>Central Park S &amp; 6 Ave</td>\n",
       "      <td>40.765909</td>\n",
       "      <td>-73.976342</td>\n",
       "      <td>2006</td>\n",
       "      <td>Central Park S &amp; 6 Ave</td>\n",
       "      <td>40.765909</td>\n",
       "      <td>-73.976342</td>\n",
       "      <td>14562</td>\n",
       "      <td>Subscriber</td>\n",
       "      <td>1952.0</td>\n",
       "      <td>1</td>\n",
       "    </tr>\n",
       "  </tbody>\n",
       "</table>\n",
       "</div>"
      ],
      "text/plain": [
       "   tripduration          starttime           stoptime  start station id  \\\n",
       "0           923  1/1/2016 00:00:41  1/1/2016 00:16:04               268   \n",
       "1           379  1/1/2016 00:00:45  1/1/2016 00:07:04               476   \n",
       "2           589  1/1/2016 00:00:48  1/1/2016 00:10:37               489   \n",
       "3           889  1/1/2016 00:01:06  1/1/2016 00:15:56               268   \n",
       "4          1480  1/1/2016 00:01:12  1/1/2016 00:25:52              2006   \n",
       "\n",
       "       start station name  start station latitude  start station longitude  \\\n",
       "0   Howard St & Centre St               40.719105               -73.999733   \n",
       "1         E 31 St & 3 Ave               40.743943               -73.979661   \n",
       "2        10 Ave & W 28 St               40.750664               -74.001768   \n",
       "3   Howard St & Centre St               40.719105               -73.999733   \n",
       "4  Central Park S & 6 Ave               40.765909               -73.976342   \n",
       "\n",
       "   end station id            end station name  end station latitude  \\\n",
       "0            3002  South End Ave & Liberty St             40.711512   \n",
       "1             498          Broadway & W 32 St             40.748549   \n",
       "2             284       Greenwich Ave & 8 Ave             40.739017   \n",
       "3            3002  South End Ave & Liberty St             40.711512   \n",
       "4            2006      Central Park S & 6 Ave             40.765909   \n",
       "\n",
       "   end station longitude  bikeid    usertype  birth year  gender  \n",
       "0             -74.015756   22285  Subscriber      1958.0       1  \n",
       "1             -73.988084   17827  Subscriber      1969.0       1  \n",
       "2             -74.002638   21997  Subscriber      1982.0       2  \n",
       "3             -74.015756   22794  Subscriber      1961.0       2  \n",
       "4             -73.976342   14562  Subscriber      1952.0       1  "
      ]
     },
     "execution_count": 2,
     "metadata": {},
     "output_type": "execute_result"
    }
   ],
   "source": [
    "#read in 2 files and concat\n",
    "df_jan = pd.read_csv('/gws/open/Student/citibike/201601-citibike-tripdata.zip', compression='infer')\n",
    "df_july = pd.read_csv('/gws/open/Student/citibike/201607-citibike-tripdata.zip', compression='infer')\n",
    "df = pd.concat([df_jan, df_july])\n",
    "print(df.shape)\n",
    "df.head()"
   ]
  },
  {
   "cell_type": "code",
   "execution_count": 3,
   "metadata": {
    "collapsed": false
   },
   "outputs": [
    {
     "data": {
      "text/plain": [
       "Text(0.5,0,'Rider Birth Year')"
      ]
     },
     "execution_count": 3,
     "metadata": {},
     "output_type": "execute_result"
    },
    {
     "data": {
      "image/png": "[encoded data removed]",
      "text/plain": [
       "<matplotlib.figure.Figure at 0x7f2695a96470>"
      ]
     },
     "metadata": {},
     "output_type": "display_data"
    }
   ],
   "source": [
    "# Interested in distribution of birth year and trip duration and outliers\n",
    "pl.figure(figsize=(15, 10))\n",
    "pl.plot(df['birth year'], df['tripduration'], '.')\n",
    "pl.title('Citi Bike Trip Duration vs. Rider Birth Year', fontsize = 25 )\n",
    "pl.ylabel('Trip Duration (seconds)', fontsize = 20)\n",
    "pl.xlabel('Rider Birth Year', fontsize = 20)"
   ]
  },
  {
   "cell_type": "markdown",
   "metadata": {},
   "source": [
    "Figure 1: Scatter plot of trip duration vs. birth year shows few rider claiming to be extremely elderly, likely do to errors or intentionally incorrect inputs."
   ]
  },
  {
   "cell_type": "code",
   "execution_count": 4,
   "metadata": {
    "collapsed": false
   },
   "outputs": [
    {
     "data": {
      "text/plain": [
       "Text(0.5,1,'Histogram of Trip Duration (seconds)')"
      ]
     },
     "execution_count": 4,
     "metadata": {},
     "output_type": "execute_result"
    },
    {
     "data": {
      "image/png": "[encoded data removed]",
      "text/plain": [
       "<matplotlib.figure.Figure at 0x7f2696272710>"
      ]
     },
     "metadata": {},
     "output_type": "display_data"
    }
   ],
   "source": [
    "# Histogram of just tripduration\n",
    "bins = numpy.linspace(0, 5000, 100)\n",
    "\n",
    "pl.figure(figsize=(15, 10))\n",
    "pl.hist(df['tripduration'], bins=bins, alpha=0.5, color='red')\n",
    "pl.axvline(3 * 60 * 60, label = '3 Hours', c = 'blue')\n",
    "pl.legend(loc='upper center', fontsize = 15)\n",
    "pl.xlabel('Trip Duration (s)', fontsize = 20)\n",
    "pl.ylabel('Count', fontsize = 20)\n",
    "pl.title('Histogram of Trip Duration (seconds)', fontsize = 25)"
   ]
  },
  {
   "cell_type": "markdown",
   "metadata": {},
   "source": [
    "Figure 2: Histogram of trip duration shows a lognormal distribution of trip times.  Also shown is a bar for a 3 hour trip which I will use as a cutoff to remove trips that did not have bikes docked correctly at their destination.  As a subsriber to Citi Bike, a 3 hour trip would cost an addition $22.50 on top of your yearly subscription.  Doing that on purpose seems unlikely.  "
   ]
  },
  {
   "cell_type": "code",
   "execution_count": 5,
   "metadata": {
    "collapsed": false
   },
   "outputs": [
    {
     "data": {
      "text/html": [
       "<div>\n",
       "<table border=\"1\" class=\"dataframe\">\n",
       "  <thead>\n",
       "    <tr style=\"text-align: right;\">\n",
       "      <th>birth year</th>\n",
       "      <th>1885.0</th>\n",
       "      <th>1888.0</th>\n",
       "      <th>1893.0</th>\n",
       "      <th>1894.0</th>\n",
       "      <th>1899.0</th>\n",
       "      <th>1900.0</th>\n",
       "      <th>1901.0</th>\n",
       "      <th>1907.0</th>\n",
       "      <th>1910.0</th>\n",
       "      <th>1912.0</th>\n",
       "      <th>...</th>\n",
       "      <th>1992.0</th>\n",
       "      <th>1993.0</th>\n",
       "      <th>1994.0</th>\n",
       "      <th>1995.0</th>\n",
       "      <th>1996.0</th>\n",
       "      <th>1997.0</th>\n",
       "      <th>1998.0</th>\n",
       "      <th>1999.0</th>\n",
       "      <th>2000.0</th>\n",
       "      <th>All</th>\n",
       "    </tr>\n",
       "    <tr>\n",
       "      <th>usertype</th>\n",
       "      <th></th>\n",
       "      <th></th>\n",
       "      <th></th>\n",
       "      <th></th>\n",
       "      <th></th>\n",
       "      <th></th>\n",
       "      <th></th>\n",
       "      <th></th>\n",
       "      <th></th>\n",
       "      <th></th>\n",
       "      <th></th>\n",
       "      <th></th>\n",
       "      <th></th>\n",
       "      <th></th>\n",
       "      <th></th>\n",
       "      <th></th>\n",
       "      <th></th>\n",
       "      <th></th>\n",
       "      <th></th>\n",
       "      <th></th>\n",
       "      <th></th>\n",
       "    </tr>\n",
       "  </thead>\n",
       "  <tbody>\n",
       "    <tr>\n",
       "      <th>Customer</th>\n",
       "      <td>0</td>\n",
       "      <td>0</td>\n",
       "      <td>0</td>\n",
       "      <td>0</td>\n",
       "      <td>0</td>\n",
       "      <td>0</td>\n",
       "      <td>0</td>\n",
       "      <td>0</td>\n",
       "      <td>0</td>\n",
       "      <td>0</td>\n",
       "      <td>...</td>\n",
       "      <td>81</td>\n",
       "      <td>82</td>\n",
       "      <td>109</td>\n",
       "      <td>102</td>\n",
       "      <td>61</td>\n",
       "      <td>62</td>\n",
       "      <td>71</td>\n",
       "      <td>0</td>\n",
       "      <td>0</td>\n",
       "      <td>2614</td>\n",
       "    </tr>\n",
       "    <tr>\n",
       "      <th>Subscriber</th>\n",
       "      <td>178</td>\n",
       "      <td>31</td>\n",
       "      <td>6</td>\n",
       "      <td>1</td>\n",
       "      <td>56</td>\n",
       "      <td>298</td>\n",
       "      <td>56</td>\n",
       "      <td>5</td>\n",
       "      <td>59</td>\n",
       "      <td>8</td>\n",
       "      <td>...</td>\n",
       "      <td>41900</td>\n",
       "      <td>28009</td>\n",
       "      <td>14390</td>\n",
       "      <td>11057</td>\n",
       "      <td>7027</td>\n",
       "      <td>4623</td>\n",
       "      <td>3917</td>\n",
       "      <td>2113</td>\n",
       "      <td>481</td>\n",
       "      <td>1658834</td>\n",
       "    </tr>\n",
       "    <tr>\n",
       "      <th>All</th>\n",
       "      <td>178</td>\n",
       "      <td>31</td>\n",
       "      <td>6</td>\n",
       "      <td>1</td>\n",
       "      <td>56</td>\n",
       "      <td>298</td>\n",
       "      <td>56</td>\n",
       "      <td>5</td>\n",
       "      <td>59</td>\n",
       "      <td>8</td>\n",
       "      <td>...</td>\n",
       "      <td>41981</td>\n",
       "      <td>28091</td>\n",
       "      <td>14499</td>\n",
       "      <td>11159</td>\n",
       "      <td>7088</td>\n",
       "      <td>4685</td>\n",
       "      <td>3988</td>\n",
       "      <td>2113</td>\n",
       "      <td>481</td>\n",
       "      <td>1661448</td>\n",
       "    </tr>\n",
       "  </tbody>\n",
       "</table>\n",
       "<p>3 rows × 89 columns</p>\n",
       "</div>"
      ],
      "text/plain": [
       "birth year  1885.0  1888.0  1893.0  1894.0  1899.0  1900.0  1901.0  1907.0  \\\n",
       "usertype                                                                     \n",
       "Customer         0       0       0       0       0       0       0       0   \n",
       "Subscriber     178      31       6       1      56     298      56       5   \n",
       "All            178      31       6       1      56     298      56       5   \n",
       "\n",
       "birth year  1910.0  1912.0   ...     1992.0  1993.0  1994.0  1995.0  1996.0  \\\n",
       "usertype                     ...                                              \n",
       "Customer         0       0   ...         81      82     109     102      61   \n",
       "Subscriber      59       8   ...      41900   28009   14390   11057    7027   \n",
       "All             59       8   ...      41981   28091   14499   11159    7088   \n",
       "\n",
       "birth year  1997.0  1998.0  1999.0  2000.0      All  \n",
       "usertype                                             \n",
       "Customer        62      71       0       0     2614  \n",
       "Subscriber    4623    3917    2113     481  1658834  \n",
       "All           4685    3988    2113     481  1661448  \n",
       "\n",
       "[3 rows x 89 columns]"
      ]
     },
     "execution_count": 5,
     "metadata": {},
     "output_type": "execute_result"
    }
   ],
   "source": [
    "# remove any rows with NaN for Birth Year\n",
    "# I'm still going to drop NaNs even though I was suggested that I convert them to the mean birth year\n",
    "# This is because It would just be adding ride to the non-senior group\n",
    "df = df.dropna(subset=['birth year'])\n",
    "\n",
    "pd.crosstab(df['usertype'], df['birth year'],margins=True)"
   ]
  },
  {
   "cell_type": "code",
   "execution_count": 6,
   "metadata": {
    "collapsed": false
   },
   "outputs": [
    {
     "name": "stdout",
     "output_type": "stream",
     "text": [
      "(1658734, 15)\n"
     ]
    }
   ],
   "source": [
    "# It was reccomended that I remove riders above the age of 90 since those ages are likely false\n",
    "df = df[df['birth year'] > 1927]\n",
    "\n",
    "# Also removing any ride with shorter than 30 seconds (not a ride) \n",
    "#and more than 3 hours(costs get pretty high, likely left bike somewhere by mistake)\n",
    "df = df[(df['tripduration'] > 30) & (df['tripduration'] < ( 3 * 60 * 60))]\n",
    "\n",
    "print(df.shape)"
   ]
  },
  {
   "cell_type": "code",
   "execution_count": 7,
   "metadata": {
    "collapsed": false
   },
   "outputs": [
    {
     "data": {
      "text/html": [
       "<div>\n",
       "<table border=\"1\" class=\"dataframe\">\n",
       "  <thead>\n",
       "    <tr style=\"text-align: right;\">\n",
       "      <th></th>\n",
       "      <th>tripduration</th>\n",
       "      <th>birth year</th>\n",
       "    </tr>\n",
       "  </thead>\n",
       "  <tbody>\n",
       "    <tr>\n",
       "      <th>0</th>\n",
       "      <td>923</td>\n",
       "      <td>1958.0</td>\n",
       "    </tr>\n",
       "    <tr>\n",
       "      <th>1</th>\n",
       "      <td>379</td>\n",
       "      <td>1969.0</td>\n",
       "    </tr>\n",
       "    <tr>\n",
       "      <th>2</th>\n",
       "      <td>589</td>\n",
       "      <td>1982.0</td>\n",
       "    </tr>\n",
       "    <tr>\n",
       "      <th>3</th>\n",
       "      <td>889</td>\n",
       "      <td>1961.0</td>\n",
       "    </tr>\n",
       "    <tr>\n",
       "      <th>4</th>\n",
       "      <td>1480</td>\n",
       "      <td>1952.0</td>\n",
       "    </tr>\n",
       "  </tbody>\n",
       "</table>\n",
       "</div>"
      ],
      "text/plain": [
       "   tripduration  birth year\n",
       "0           923      1958.0\n",
       "1           379      1969.0\n",
       "2           589      1982.0\n",
       "3           889      1961.0\n",
       "4          1480      1952.0"
      ]
     },
     "execution_count": 7,
     "metadata": {},
     "output_type": "execute_result"
    }
   ],
   "source": [
    "# drop extra columns\n",
    "df.drop([ 'starttime', 'stoptime', 'start station id',\n",
    "       'start station name', 'start station latitude',\n",
    "       'start station longitude', 'end station id', 'end station name',\n",
    "       'end station latitude', 'end station longitude', 'bikeid', 'usertype',\n",
    "        'gender'] , axis=1, inplace=True)\n",
    "df.head()"
   ]
  },
  {
   "cell_type": "code",
   "execution_count": 8,
   "metadata": {
    "collapsed": false
   },
   "outputs": [
    {
     "data": {
      "text/html": [
       "<div>\n",
       "<table border=\"1\" class=\"dataframe\">\n",
       "  <thead>\n",
       "    <tr style=\"text-align: right;\">\n",
       "      <th>birth year</th>\n",
       "      <th>1931.0</th>\n",
       "      <th>1932.0</th>\n",
       "      <th>1933.0</th>\n",
       "      <th>1934.0</th>\n",
       "      <th>1935.0</th>\n",
       "      <th>1936.0</th>\n",
       "      <th>1937.0</th>\n",
       "      <th>1938.0</th>\n",
       "      <th>1939.0</th>\n",
       "      <th>1940.0</th>\n",
       "      <th>...</th>\n",
       "      <th>1992.0</th>\n",
       "      <th>1993.0</th>\n",
       "      <th>1994.0</th>\n",
       "      <th>1995.0</th>\n",
       "      <th>1996.0</th>\n",
       "      <th>1997.0</th>\n",
       "      <th>1998.0</th>\n",
       "      <th>1999.0</th>\n",
       "      <th>2000.0</th>\n",
       "      <th>All</th>\n",
       "    </tr>\n",
       "    <tr>\n",
       "      <th>senior</th>\n",
       "      <th></th>\n",
       "      <th></th>\n",
       "      <th></th>\n",
       "      <th></th>\n",
       "      <th></th>\n",
       "      <th></th>\n",
       "      <th></th>\n",
       "      <th></th>\n",
       "      <th></th>\n",
       "      <th></th>\n",
       "      <th></th>\n",
       "      <th></th>\n",
       "      <th></th>\n",
       "      <th></th>\n",
       "      <th></th>\n",
       "      <th></th>\n",
       "      <th></th>\n",
       "      <th></th>\n",
       "      <th></th>\n",
       "      <th></th>\n",
       "      <th></th>\n",
       "    </tr>\n",
       "  </thead>\n",
       "  <tbody>\n",
       "    <tr>\n",
       "      <th>0</th>\n",
       "      <td>0</td>\n",
       "      <td>0</td>\n",
       "      <td>0</td>\n",
       "      <td>0</td>\n",
       "      <td>0</td>\n",
       "      <td>0</td>\n",
       "      <td>0</td>\n",
       "      <td>0</td>\n",
       "      <td>0</td>\n",
       "      <td>0</td>\n",
       "      <td>...</td>\n",
       "      <td>41937</td>\n",
       "      <td>28068</td>\n",
       "      <td>14489</td>\n",
       "      <td>11133</td>\n",
       "      <td>7074</td>\n",
       "      <td>4674</td>\n",
       "      <td>3983</td>\n",
       "      <td>2111</td>\n",
       "      <td>481</td>\n",
       "      <td>1618803</td>\n",
       "    </tr>\n",
       "    <tr>\n",
       "      <th>1</th>\n",
       "      <td>5</td>\n",
       "      <td>102</td>\n",
       "      <td>49</td>\n",
       "      <td>17</td>\n",
       "      <td>90</td>\n",
       "      <td>109</td>\n",
       "      <td>54</td>\n",
       "      <td>496</td>\n",
       "      <td>278</td>\n",
       "      <td>687</td>\n",
       "      <td>...</td>\n",
       "      <td>0</td>\n",
       "      <td>0</td>\n",
       "      <td>0</td>\n",
       "      <td>0</td>\n",
       "      <td>0</td>\n",
       "      <td>0</td>\n",
       "      <td>0</td>\n",
       "      <td>0</td>\n",
       "      <td>0</td>\n",
       "      <td>39931</td>\n",
       "    </tr>\n",
       "    <tr>\n",
       "      <th>All</th>\n",
       "      <td>5</td>\n",
       "      <td>102</td>\n",
       "      <td>49</td>\n",
       "      <td>17</td>\n",
       "      <td>90</td>\n",
       "      <td>109</td>\n",
       "      <td>54</td>\n",
       "      <td>496</td>\n",
       "      <td>278</td>\n",
       "      <td>687</td>\n",
       "      <td>...</td>\n",
       "      <td>41937</td>\n",
       "      <td>28068</td>\n",
       "      <td>14489</td>\n",
       "      <td>11133</td>\n",
       "      <td>7074</td>\n",
       "      <td>4674</td>\n",
       "      <td>3983</td>\n",
       "      <td>2111</td>\n",
       "      <td>481</td>\n",
       "      <td>1658734</td>\n",
       "    </tr>\n",
       "  </tbody>\n",
       "</table>\n",
       "<p>3 rows × 71 columns</p>\n",
       "</div>"
      ],
      "text/plain": [
       "birth year  1931.0  1932.0  1933.0  1934.0  1935.0  1936.0  1937.0  1938.0  \\\n",
       "senior                                                                       \n",
       "0                0       0       0       0       0       0       0       0   \n",
       "1                5     102      49      17      90     109      54     496   \n",
       "All              5     102      49      17      90     109      54     496   \n",
       "\n",
       "birth year  1939.0  1940.0   ...     1992.0  1993.0  1994.0  1995.0  1996.0  \\\n",
       "senior                       ...                                              \n",
       "0                0       0   ...      41937   28068   14489   11133    7074   \n",
       "1              278     687   ...          0       0       0       0       0   \n",
       "All            278     687   ...      41937   28068   14489   11133    7074   \n",
       "\n",
       "birth year  1997.0  1998.0  1999.0  2000.0      All  \n",
       "senior                                               \n",
       "0             4674    3983    2111     481  1618803  \n",
       "1                0       0       0       0    39931  \n",
       "All           4674    3983    2111     481  1658734  \n",
       "\n",
       "[3 rows x 71 columns]"
      ]
     },
     "execution_count": 8,
     "metadata": {},
     "output_type": "execute_result"
    }
   ],
   "source": [
    "# Add a column for Senior or not\n",
    "def sen_or_no(year) :\n",
    "    if year < 1953:\n",
    "        return(1)\n",
    "    else:\n",
    "        return(0)\n",
    "df['senior'] = df['birth year'].apply(lambda x: sen_or_no(x))\n",
    "# check values\n",
    "pd.crosstab(df['senior'], df['birth year'],margins=True)"
   ]
  },
  {
   "cell_type": "code",
   "execution_count": 9,
   "metadata": {
    "collapsed": false
   },
   "outputs": [
    {
     "data": {
      "text/plain": [
       "Text(0,0.5,'Count')"
      ]
     },
     "execution_count": 9,
     "metadata": {},
     "output_type": "execute_result"
    },
    {
     "data": {
      "image/png": "[encoded data removed]",
      "text/plain": [
       "<matplotlib.figure.Figure at 0x7f266f40b860>"
      ]
     },
     "metadata": {},
     "output_type": "display_data"
    }
   ],
   "source": [
    "# Look at the distributions of tripduration split by senior\n",
    "bins = numpy.linspace(0, 5000, 100)\n",
    "pl.figure(figsize=(15, 10))\n",
    "pl.hist(df['tripduration'][df['senior'] == 1], bins=bins, alpha=0.5, label='Seniors', color='red')\n",
    "pl.hist(df['tripduration'][df['senior'] == 0], bins=bins, alpha=0.5, label='Younger', color='dodgerblue')\n",
    "pl.xlim(0,4000)\n",
    "pl.legend(loc='upper right', fontsize=15)\n",
    "pl.title('Histogram of Ride Duration Split by Rider Age Group', fontsize=20)\n",
    "pl.xlabel('Ride Duration (s)', fontsize=20)\n",
    "pl.ylabel('Count', fontsize=20 )"
   ]
  },
  {
   "cell_type": "markdown",
   "metadata": {},
   "source": [
    "Figure 3: The histogram of ride duration with outliers removed split by rider age group shows what looks like lognormal distributions for both groups."
   ]
  },
  {
   "cell_type": "code",
   "execution_count": 10,
   "metadata": {
    "collapsed": false
   },
   "outputs": [
    {
     "data": {
      "text/plain": [
       "Text(0,0.5,'Count')"
      ]
     },
     "execution_count": 10,
     "metadata": {},
     "output_type": "execute_result"
    },
    {
     "data": {
      "image/png": "[encoded data removed]",
      "text/plain": [
       "<matplotlib.figure.Figure at 0x7f266f3e8b70>"
      ]
     },
     "metadata": {},
     "output_type": "display_data"
    }
   ],
   "source": [
    "# I would like to use a z-test to compare the groups and they look lognormal so I will log transform the trip duration\n",
    "df['log_td'] = np.log10(df['tripduration'])\n",
    "bins = numpy.linspace(1, 5, 100)\n",
    "pl.figure(figsize=(15, 10))\n",
    "pl.hist(df['log_td'][df['senior'] == 1], bins=bins, alpha=0.5, label='Seniors', color='red')\n",
    "pl.hist(df['log_td'][df['senior'] == 0], bins=bins, alpha=0.5, label='Younger', color='dodgerblue')\n",
    "pl.xlim(1,5)\n",
    "pl.legend(loc='upper right', fontsize=15)\n",
    "pl.title('Histogram of Log10(Ride Duration) Split by Rider Age Group', fontsize=20)\n",
    "pl.xlabel('log10(Ride Duration (s))', fontsize=20)\n",
    "pl.ylabel('Count', fontsize=20 )"
   ]
  },
  {
   "cell_type": "markdown",
   "metadata": {},
   "source": [
    "Figure 4: Histogram of log10(Trip Durations) shows data is relatively close to normal distribution."
   ]
  },
  {
   "cell_type": "code",
   "execution_count": 11,
   "metadata": {
    "collapsed": false
   },
   "outputs": [
    {
     "name": "stdout",
     "output_type": "stream",
     "text": [
      "The z statistic for the test is 13.7960553608\n",
      "The associated p-val for the z statistic is 1.0\n"
     ]
    }
   ],
   "source": [
    "# It was reccomended that I use a chi-sq for proportions test to test my hypothesis\n",
    "# I disagree with this since I am comparing means of values not the counts\n",
    "# If I had split rides into groups of short and long then the chi-sq for proportions would make sense\n",
    "# Instead I used a two sample z-test since my data is normally distributed.\n",
    "z_score, p_val = (ws.ztest(df['log_td'][df['senior'] == 1], df['log_td'][df['senior'] == 0],\n",
    "              alternative = 'smaller'))\n",
    "print('The z statistic for the test is '+  str(z_score))\n",
    "print('The associated p-val for the z statistic is ' + str(p_val))"
   ]
  },
  {
   "cell_type": "markdown",
   "metadata": {},
   "source": [
    "We using a two sample z-test we find that the z test statistic with our null hypotheis being that the mean for the senior group is greater than or equal to that of the non-senior group.  "
   ]
  },
  {
   "cell_type": "code",
   "execution_count": 12,
   "metadata": {
    "collapsed": false
   },
   "outputs": [
    {
     "data": {
      "text/plain": [
       "([<matplotlib.axis.XTick at 0x7f26958827b8>,\n",
       "  <matplotlib.axis.XTick at 0x7f26959077f0>],\n",
       " <a list of 2 Text xticklabel objects>)"
      ]
     },
     "execution_count": 12,
     "metadata": {},
     "output_type": "execute_result"
    },
    {
     "data": {
      "image/png": "[encoded data removed]",
      "text/plain": [
       "<matplotlib.figure.Figure at 0x7f2695936cc0>"
      ]
     },
     "metadata": {},
     "output_type": "display_data"
    }
   ],
   "source": [
    "pl.figure(figsize=(15, 10))\n",
    "my_pal = {1 : \"r\", 0 : \"b\"}\n",
    "sns.boxplot(x='senior', y='log_td', data=df, palette=my_pal)\n",
    "#plt.ylim(0, 2000)\n",
    "plt.title('Distributions of Trip Duration by Age Group', fontsize = 25)\n",
    "plt.xlabel('Age Group', fontsize = 20)\n",
    "plt.ylabel('log10(Trip Duration(Seconds))', fontsize = 20)\n",
    "plt.xticks([0,1], ['Younger People', 'Seniors'], rotation='vertical', fontsize = 20)"
   ]
  },
  {
   "cell_type": "markdown",
   "metadata": {},
   "source": [
    "Fig 5: This boxplot of log10 transformed trip durations for seniros and younger people shows that there is clearly not a significant difference in means between senior trip durations and younger people's trip durations"
   ]
  },
  {
   "cell_type": "code",
   "execution_count": null,
   "metadata": {
    "collapsed": true
   },
   "outputs": [],
   "source": []
  }
 ],
 "metadata": {
  "kernelspec": {
   "display_name": "PUI2016_Python3",
   "language": "python",
   "name": "pui2016_python3"
  },
  "language_info": {
   "codemirror_mode": {
    "name": "ipython",
    "version": 3
   },
   "file_extension": ".py",
   "mimetype": "text/x-python",
   "name": "python",
   "nbconvert_exporter": "python",
   "pygments_lexer": "ipython3",
   "version": "3.5.4"
  }
 },
 "nbformat": 4,
 "nbformat_minor": 0
}
