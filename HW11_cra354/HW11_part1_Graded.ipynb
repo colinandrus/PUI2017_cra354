{
 "cells": [
  {
   "cell_type": "code",
   "execution_count": null,
   "metadata": {},
   "outputs": [],
   "source": [
    "#these commands can be run on the shell and get the data with the command wget\n",
    "#the cell needs to be run only once\n",
    "# The file for 1993 does not exist\n",
    "!for ((y=93; y<=99; y+=1)); do wget \\\n",
    "ftp://ftp.census.gov/Econ2001_And_Earlier/CBP_CSV/zbp$y\\totals.zip; done\n",
    "\n",
    "!for ((y=0; y<=1; y+=1)); do wget \\\n",
    "ftp://ftp.census.gov/Econ2001_And_Earlier/CBP_CSV/zbp0$y\\totals.zip; done\n",
    "\n",
    "!for ((y=2; y<=9; y+=1)); do wget \\\n",
    "ftp://ftp.census.gov/econ200$y\\/CBP_CSV/zbp0$y\\totals.zip; done\n",
    "\n",
    "!for ((y=10; y<=14; y+=1)); do wget \\\n",
    "ftp://ftp.census.gov/econ20$y\\/CBP_CSV/zbp$y\\totals.zip; done"
   ]
  },
  {
   "cell_type": "code",
   "execution_count": 5,
   "metadata": {},
   "outputs": [
    {
     "name": "stdout",
     "output_type": "stream",
     "text": [
      "--2017-12-20 01:52:46--  https://data.cityofnewyork.us/download/i8iw-xf4u/application%2Fzip\n",
      "Resolving data.cityofnewyork.us... 52.206.140.199\n",
      "Connecting to data.cityofnewyork.us|52.206.140.199|:443... connected.\n",
      "HTTP request sent, awaiting response... 302 Found\n",
      "Location: https://data.cityofnewyork.us/api/views/i8iw-xf4u/files/YObIR0MbpUVA0EpQzZSq5x55FzKGM2ejSeahdvjqR20?filename=ZIP_CODE_040114.zip [following]\n",
      "--2017-12-20 01:52:46--  https://data.cityofnewyork.us/api/views/i8iw-xf4u/files/YObIR0MbpUVA0EpQzZSq5x55FzKGM2ejSeahdvjqR20?filename=ZIP_CODE_040114.zip\n",
      "Connecting to data.cityofnewyork.us|52.206.140.199|:443... connected.\n",
      "HTTP request sent, awaiting response... 200 OK\n",
      "Length: 1514401 (1.4M) [application/octet-stream]\n",
      "Saving to: “application%2Fzip.1”\n",
      "\n",
      "100%[======================================>] 1,514,401   1.93M/s   in 0.7s    \n",
      "\n",
      "2017-12-20 01:52:47 (1.93 MB/s) - “application%2Fzip.1” saved [1514401/1514401]\n",
      "\n"
     ]
    }
   ],
   "source": [
    "! wget https://data.cityofnewyork.us/download/i8iw-xf4u/application%2Fzip > ZIP_CODE_040114.zip"
   ]
  },
  {
   "cell_type": "code",
   "execution_count": 2,
   "metadata": {},
   "outputs": [
    {
     "name": "stdout",
     "output_type": "stream",
     "text": [
      "Populating the interactive namespace from numpy and matplotlib\n"
     ]
    }
   ],
   "source": [
    "import pandas as pd\n",
    "import zipfile \n",
    "import os\n",
    "import geopandas as gpd\n",
    "#import choroplethNYC as cp\n",
    "import matplotlib.pylab as pylab\n",
    "%pylab inline"
   ]
  },
  {
   "cell_type": "code",
   "execution_count": 3,
   "metadata": {},
   "outputs": [],
   "source": [
    "# Download the shape file for NYC and put the uncompressed directory in $PUIDATA"
   ]
  },
  {
   "cell_type": "code",
   "execution_count": 7,
   "metadata": {},
   "outputs": [],
   "source": [
    "nyc_shp = gpd.GeoDataFrame.from_file(os.getenv(\"PUIDATA\") + \"/ZIP_CODES/\" + \n",
    "                                     \"ZIP_CODE_040114.shp\")"
   ]
  },
  {
   "cell_type": "code",
   "execution_count": 9,
   "metadata": {},
   "outputs": [],
   "source": [
    "# Check to make sure plotting works\n",
    "#cp.choroplethNYC(nyc_shp, column=None, color=\"white\", edgecolor=\"black\", lw=2)"
   ]
  },
  {
   "cell_type": "code",
   "execution_count": 10,
   "metadata": {},
   "outputs": [
    {
     "ename": "FileNotFoundError",
     "evalue": "[Errno 2] No such file or directory: 'zbp94totals.zip'",
     "output_type": "error",
     "traceback": [
      "\u001b[0;31m---------------------------------------------------------------------------\u001b[0m",
      "\u001b[0;31mFileNotFoundError\u001b[0m                         Traceback (most recent call last)",
      "\u001b[0;32m<ipython-input-10-3f890c45fb68>\u001b[0m in \u001b[0;36m<module>\u001b[0;34m()\u001b[0m\n\u001b[1;32m      9\u001b[0m \u001b[0;32mfor\u001b[0m \u001b[0mi\u001b[0m \u001b[0;32min\u001b[0m \u001b[0mrange\u001b[0m\u001b[0;34m(\u001b[0m\u001b[0mlen\u001b[0m\u001b[0;34m(\u001b[0m\u001b[0myear_list\u001b[0m\u001b[0;34m)\u001b[0m\u001b[0;34m)\u001b[0m\u001b[0;34m:\u001b[0m\u001b[0;34m\u001b[0m\u001b[0m\n\u001b[1;32m     10\u001b[0m     \u001b[0mfname\u001b[0m \u001b[0;34m=\u001b[0m \u001b[0;34m'zbp'\u001b[0m\u001b[0;34m+\u001b[0m \u001b[0mstr\u001b[0m\u001b[0;34m(\u001b[0m\u001b[0myear_list\u001b[0m\u001b[0;34m[\u001b[0m\u001b[0mi\u001b[0m\u001b[0;34m]\u001b[0m\u001b[0;34m)\u001b[0m \u001b[0;34m+\u001b[0m\u001b[0;34m'totals.zip'\u001b[0m\u001b[0;34m\u001b[0m\u001b[0m\n\u001b[0;32m---> 11\u001b[0;31m     \u001b[0mzf\u001b[0m \u001b[0;34m=\u001b[0m \u001b[0mzipfile\u001b[0m\u001b[0;34m.\u001b[0m\u001b[0mZipFile\u001b[0m\u001b[0;34m(\u001b[0m\u001b[0mfname\u001b[0m\u001b[0;34m)\u001b[0m\u001b[0;34m\u001b[0m\u001b[0m\n\u001b[0m\u001b[1;32m     12\u001b[0m     \u001b[0mdf\u001b[0m \u001b[0;34m=\u001b[0m \u001b[0mpd\u001b[0m\u001b[0;34m.\u001b[0m\u001b[0mread_csv\u001b[0m\u001b[0;34m(\u001b[0m\u001b[0mzf\u001b[0m\u001b[0;34m.\u001b[0m\u001b[0mopen\u001b[0m\u001b[0;34m(\u001b[0m\u001b[0mfname\u001b[0m\u001b[0;34m.\u001b[0m\u001b[0mreplace\u001b[0m\u001b[0;34m(\u001b[0m\u001b[0;34m'.zip'\u001b[0m\u001b[0;34m,\u001b[0m\u001b[0;34m'.txt'\u001b[0m\u001b[0;34m)\u001b[0m\u001b[0;34m)\u001b[0m\u001b[0;34m)\u001b[0m\u001b[0;34m\u001b[0m\u001b[0m\n\u001b[1;32m     13\u001b[0m     \u001b[0mdf\u001b[0m \u001b[0;34m=\u001b[0m \u001b[0mdf\u001b[0m\u001b[0;34m[\u001b[0m\u001b[0mdf\u001b[0m\u001b[0;34m.\u001b[0m\u001b[0miloc\u001b[0m\u001b[0;34m[\u001b[0m\u001b[0;34m:\u001b[0m\u001b[0;34m,\u001b[0m\u001b[0;36m0\u001b[0m\u001b[0;34m]\u001b[0m\u001b[0;34m.\u001b[0m\u001b[0misin\u001b[0m\u001b[0;34m(\u001b[0m\u001b[0mnyc_shp\u001b[0m\u001b[0;34m[\u001b[0m\u001b[0;34m'ZIPCODE'\u001b[0m\u001b[0;34m]\u001b[0m\u001b[0;34m)\u001b[0m\u001b[0;34m]\u001b[0m\u001b[0;34m\u001b[0m\u001b[0m\n",
      "\u001b[0;32m/opt/rh/anaconda/root/envs/PUI2016_Python3/lib/python3.5/zipfile.py\u001b[0m in \u001b[0;36m__init__\u001b[0;34m(self, file, mode, compression, allowZip64)\u001b[0m\n\u001b[1;32m   1007\u001b[0m             \u001b[0;32mwhile\u001b[0m \u001b[0;32mTrue\u001b[0m\u001b[0;34m:\u001b[0m\u001b[0;34m\u001b[0m\u001b[0m\n\u001b[1;32m   1008\u001b[0m                 \u001b[0;32mtry\u001b[0m\u001b[0;34m:\u001b[0m\u001b[0;34m\u001b[0m\u001b[0m\n\u001b[0;32m-> 1009\u001b[0;31m                     \u001b[0mself\u001b[0m\u001b[0;34m.\u001b[0m\u001b[0mfp\u001b[0m \u001b[0;34m=\u001b[0m \u001b[0mio\u001b[0m\u001b[0;34m.\u001b[0m\u001b[0mopen\u001b[0m\u001b[0;34m(\u001b[0m\u001b[0mfile\u001b[0m\u001b[0;34m,\u001b[0m \u001b[0mfilemode\u001b[0m\u001b[0;34m)\u001b[0m\u001b[0;34m\u001b[0m\u001b[0m\n\u001b[0m\u001b[1;32m   1010\u001b[0m                 \u001b[0;32mexcept\u001b[0m \u001b[0mOSError\u001b[0m\u001b[0;34m:\u001b[0m\u001b[0;34m\u001b[0m\u001b[0m\n\u001b[1;32m   1011\u001b[0m                     \u001b[0;32mif\u001b[0m \u001b[0mfilemode\u001b[0m \u001b[0;32min\u001b[0m \u001b[0mmodeDict\u001b[0m\u001b[0;34m:\u001b[0m\u001b[0;34m\u001b[0m\u001b[0m\n",
      "\u001b[0;31mFileNotFoundError\u001b[0m: [Errno 2] No such file or directory: 'zbp94totals.zip'"
     ]
    }
   ],
   "source": [
    "# Handling the .zip files\n",
    "year_list = ['94', '95', '96', '97', '98', '99', '00', '01', '02',\n",
    "             '03', '04', '05', '06', '07', '08', '09', '10', '11',\n",
    "             '12', '13', '14']\n",
    "full_year_list = ['1994', '1995', '1996', '1997', '1998', '1999', '2000', '2001', '2002',\n",
    "             '2003', '2004', '2005', '2006', '2007', '2008', '2009', '2010', '2011',\n",
    "             '2012', '2013', '2014']\n",
    "d={}\n",
    "for i in range(len(year_list)):\n",
    "    fname = 'zbp'+ str(year_list[i]) +'totals.zip'\n",
    "    zf = zipfile.ZipFile(fname)\n",
    "    df = pd.read_csv(zf.open(fname.replace('.zip','.txt')))\n",
    "    df = df[df.iloc[:,0].isin(nyc_shp['ZIPCODE'])]\n",
    "    df = df.rename(columns={'EST': 'est', 'ZIP': 'zip'})\n",
    "    df['year'] = full_year_list[i]\n",
    "    d[year_list[i]] = df[['zip', 'est', 'year']]\n",
    "\n",
    "# Get rid of the non shared zipcodes\n",
    "zip_list = list(d['94']['zip'])\n",
    "print(len(zip_list))\n",
    "for i in d:\n",
    "    zip_list = list(set(zip_list) & set(d[i]['zip']))\n",
    "print(len(zip_list))\n",
    "\n",
    "for i in d:\n",
    "    d[i] = d[i][d[i]['zip'].isin(zip_list)]\n",
    "    print(d[i].shape)"
   ]
  },
  {
   "cell_type": "code",
   "execution_count": 11,
   "metadata": {},
   "outputs": [
    {
     "ename": "KeyError",
     "evalue": "'94'",
     "output_type": "error",
     "traceback": [
      "\u001b[0;31m---------------------------------------------------------------------------\u001b[0m",
      "\u001b[0;31mKeyError\u001b[0m                                  Traceback (most recent call last)",
      "\u001b[0;32m<ipython-input-11-505b14fe8b7c>\u001b[0m in \u001b[0;36m<module>\u001b[0;34m()\u001b[0m\n\u001b[1;32m      1\u001b[0m \u001b[0;31m# Just going to write this out...\u001b[0m\u001b[0;34m\u001b[0m\u001b[0;34m\u001b[0m\u001b[0m\n\u001b[0;32m----> 2\u001b[0;31m all_df = pd.DataFrame({'zip': d['94']['zip'].values, \n\u001b[0m\u001b[1;32m      3\u001b[0m                       \u001b[0;34m'1994'\u001b[0m\u001b[0;34m:\u001b[0m \u001b[0md\u001b[0m\u001b[0;34m[\u001b[0m\u001b[0;34m'94'\u001b[0m\u001b[0;34m]\u001b[0m\u001b[0;34m[\u001b[0m\u001b[0;34m'est'\u001b[0m\u001b[0;34m]\u001b[0m\u001b[0;34m.\u001b[0m\u001b[0mvalues\u001b[0m\u001b[0;34m,\u001b[0m\u001b[0;34m\u001b[0m\u001b[0m\n\u001b[1;32m      4\u001b[0m                       \u001b[0;34m'1995'\u001b[0m\u001b[0;34m:\u001b[0m \u001b[0md\u001b[0m\u001b[0;34m[\u001b[0m\u001b[0;34m'95'\u001b[0m\u001b[0;34m]\u001b[0m\u001b[0;34m[\u001b[0m\u001b[0;34m'est'\u001b[0m\u001b[0;34m]\u001b[0m\u001b[0;34m.\u001b[0m\u001b[0mvalues\u001b[0m\u001b[0;34m,\u001b[0m\u001b[0;34m\u001b[0m\u001b[0m\n\u001b[1;32m      5\u001b[0m                       \u001b[0;34m'1996'\u001b[0m\u001b[0;34m:\u001b[0m \u001b[0md\u001b[0m\u001b[0;34m[\u001b[0m\u001b[0;34m'96'\u001b[0m\u001b[0;34m]\u001b[0m\u001b[0;34m[\u001b[0m\u001b[0;34m'est'\u001b[0m\u001b[0;34m]\u001b[0m\u001b[0;34m.\u001b[0m\u001b[0mvalues\u001b[0m\u001b[0;34m,\u001b[0m\u001b[0;34m\u001b[0m\u001b[0m\n",
      "\u001b[0;31mKeyError\u001b[0m: '94'"
     ]
    }
   ],
   "source": [
    "# Just going to write this out...\n",
    "all_df = pd.DataFrame({'zip': d['94']['zip'].values, \n",
    "                      '1994': d['94']['est'].values,\n",
    "                      '1995': d['95']['est'].values,\n",
    "                      '1996': d['96']['est'].values,\n",
    "                      '1997': d['97']['est'].values,\n",
    "                      '1998': d['98']['est'].values,\n",
    "                      '1999': d['99']['est'].values,\n",
    "                      '2000': d['00']['est'].values,\n",
    "                      '2001': d['01']['est'].values,\n",
    "                      '2002': d['02']['est'].values,\n",
    "                      '2003': d['03']['est'].values,\n",
    "                      '2004': d['04']['est'].values,\n",
    "                      '2005': d['05']['est'].values,\n",
    "                      '2006': d['06']['est'].values,\n",
    "                      '2007': d['07']['est'].values,\n",
    "                      '2008': d['08']['est'].values,\n",
    "                      '2009': d['09']['est'].values,\n",
    "                      '2010': d['10']['est'].values,\n",
    "                      '2011': d['11']['est'].values,\n",
    "                      '2012': d['12']['est'].values,\n",
    "                      '2013': d['13']['est'].values,\n",
    "                      '2014': d['14']['est'].values})"
   ]
  },
  {
   "cell_type": "code",
   "execution_count": 12,
   "metadata": {},
   "outputs": [
    {
     "ename": "NameError",
     "evalue": "name 'all_df' is not defined",
     "output_type": "error",
     "traceback": [
      "\u001b[0;31m---------------------------------------------------------------------------\u001b[0m",
      "\u001b[0;31mNameError\u001b[0m                                 Traceback (most recent call last)",
      "\u001b[0;32m<ipython-input-12-fd1f3373f819>\u001b[0m in \u001b[0;36m<module>\u001b[0;34m()\u001b[0m\n\u001b[0;32m----> 1\u001b[0;31m \u001b[0mall_df\u001b[0m \u001b[0;34m=\u001b[0m \u001b[0mall_df\u001b[0m\u001b[0;34m.\u001b[0m\u001b[0mset_index\u001b[0m\u001b[0;34m(\u001b[0m\u001b[0;34m'zip'\u001b[0m\u001b[0;34m)\u001b[0m\u001b[0;34m\u001b[0m\u001b[0m\n\u001b[0m\u001b[1;32m      2\u001b[0m \u001b[0mall_df\u001b[0m\u001b[0;34m.\u001b[0m\u001b[0mhead\u001b[0m\u001b[0;34m(\u001b[0m\u001b[0;34m)\u001b[0m\u001b[0;34m\u001b[0m\u001b[0m\n",
      "\u001b[0;31mNameError\u001b[0m: name 'all_df' is not defined"
     ]
    }
   ],
   "source": [
    "all_df = all_df.set_index('zip')\n",
    "all_df.head()"
   ]
  },
  {
   "cell_type": "code",
   "execution_count": 13,
   "metadata": {},
   "outputs": [
    {
     "ename": "NameError",
     "evalue": "name 'all_df' is not defined",
     "output_type": "error",
     "traceback": [
      "\u001b[0;31m---------------------------------------------------------------------------\u001b[0m",
      "\u001b[0;31mNameError\u001b[0m                                 Traceback (most recent call last)",
      "\u001b[0;32m<ipython-input-13-369dfe8b0237>\u001b[0m in \u001b[0;36m<module>\u001b[0;34m()\u001b[0m\n\u001b[1;32m      1\u001b[0m \u001b[0;31m# Now whiten the data\u001b[0m\u001b[0;34m\u001b[0m\u001b[0;34m\u001b[0m\u001b[0m\n\u001b[1;32m      2\u001b[0m \u001b[0;32mfrom\u001b[0m \u001b[0msklearn\u001b[0m \u001b[0;32mimport\u001b[0m \u001b[0mpreprocessing\u001b[0m\u001b[0;34m\u001b[0m\u001b[0m\n\u001b[0;32m----> 3\u001b[0;31m \u001b[0;32mfor\u001b[0m \u001b[0mcol\u001b[0m \u001b[0;32min\u001b[0m \u001b[0mall_df\u001b[0m\u001b[0;34m:\u001b[0m\u001b[0;34m\u001b[0m\u001b[0m\n\u001b[0m\u001b[1;32m      4\u001b[0m     \u001b[0mall_df\u001b[0m\u001b[0;34m[\u001b[0m\u001b[0mcol\u001b[0m\u001b[0;34m]\u001b[0m \u001b[0;34m=\u001b[0m \u001b[0mpreprocessing\u001b[0m\u001b[0;34m.\u001b[0m\u001b[0mscale\u001b[0m\u001b[0;34m(\u001b[0m\u001b[0mall_df\u001b[0m\u001b[0;34m[\u001b[0m\u001b[0mcol\u001b[0m\u001b[0;34m]\u001b[0m\u001b[0;34m)\u001b[0m\u001b[0;34m\u001b[0m\u001b[0m\n\u001b[1;32m      5\u001b[0m \u001b[0mall_df\u001b[0m\u001b[0;34m.\u001b[0m\u001b[0mdescribe\u001b[0m\u001b[0;34m(\u001b[0m\u001b[0;34m)\u001b[0m\u001b[0;34m\u001b[0m\u001b[0m\n",
      "\u001b[0;31mNameError\u001b[0m: name 'all_df' is not defined"
     ]
    }
   ],
   "source": [
    "# Now whiten the data\n",
    "from sklearn import preprocessing\n",
    "for col in all_df:\n",
    "    all_df[col] = preprocessing.scale(all_df[col])\n",
    "all_df.describe()"
   ]
  },
  {
   "cell_type": "markdown",
   "metadata": {},
   "source": [
    "For loop with scikitlearn made all means 0 and std devs 1."
   ]
  },
  {
   "cell_type": "code",
   "execution_count": null,
   "metadata": {},
   "outputs": [],
   "source": [
    "from sklearn import cluster\n",
    "clusters = cluster.KMeans(n_clusters=4, random_state=39).fit(all_df)"
   ]
  },
  {
   "cell_type": "code",
   "execution_count": null,
   "metadata": {},
   "outputs": [],
   "source": [
    "#for i in range\n",
    "clusters.cluster_centers_\n",
    "clusters.labels_"
   ]
  },
  {
   "cell_type": "code",
   "execution_count": null,
   "metadata": {},
   "outputs": [],
   "source": [
    "plt.figure(figsize=(15,15))\n",
    "ticks = range(1994, 2015)\n",
    "\n",
    "plt.subplot(2, 2, 1)\n",
    "for i in range(len(clusters.labels_)):\n",
    "    if clusters.labels_[i] == 0:\n",
    "        plt.plot(range(all_df.shape[1]), all_df.iloc[i,:], color = 'blue', alpha =0.4)\n",
    "plt.plot(range(all_df.shape[1]), clusters.cluster_centers_[0], color='black',  linewidth=5.0)\n",
    "plt.xlabel('Year')\n",
    "plt.ylabel('Establishments')\n",
    "plt.xticks(range(20), ticks, rotation='vertical')\n",
    "plt.title('Cluster 1')\n",
    "\n",
    "plt.subplot(2, 2, 2)\n",
    "for i in range(len(clusters.labels_)):\n",
    "    if clusters.labels_[i] == 1:\n",
    "        plt.plot(range(all_df.shape[1]), all_df.iloc[i,:], color = 'blue', alpha =0.4)\n",
    "plt.plot(range(all_df.shape[1]), clusters.cluster_centers_[1], color='black', linewidth=5.0)\n",
    "plt.xlabel('Year')\n",
    "plt.ylabel('Establishments')\n",
    "plt.xticks(range(20), ticks, rotation='vertical')\n",
    "plt.title('Cluster 2')\n",
    "\n",
    "plt.subplot(2, 2, 3)\n",
    "for i in range(len(clusters.labels_)):\n",
    "    if clusters.labels_[i] == 2:\n",
    "        plt.plot(range(all_df.shape[1]), all_df.iloc[i,:], color = 'blue', alpha =0.4)\n",
    "plt.plot(range(all_df.shape[1]), clusters.cluster_centers_[2], color='black', linewidth=5.0)\n",
    "plt.xlabel('Year')\n",
    "plt.ylabel('Establishments')\n",
    "plt.xticks(range(20), ticks, rotation='vertical')\n",
    "plt.title('Cluster 3')\n",
    "\n",
    "plt.subplot(2, 2, 4)\n",
    "for i in range(len(clusters.labels_)):\n",
    "    if clusters.labels_[i] == 3:\n",
    "        plt.plot(range(all_df.shape[1]), all_df.iloc[i,:], color = 'blue', alpha =0.4)\n",
    "plt.plot(range(all_df.shape[1]), clusters.cluster_centers_[3], color='black', linewidth=5.0)\n",
    "plt.xlabel('Year')\n",
    "plt.ylabel('Establishments')\n",
    "plt.xticks(range(20), ticks, rotation='vertical')\n",
    "plt.title('Cluster 4')"
   ]
  },
  {
   "cell_type": "markdown",
   "metadata": {},
   "source": [
    "Figure 1:\n",
    "Split into 4 plots are the 4 different kmeans clusters of ZIP codes with the whitened values for establishments on the y axis and the time on the x-axis."
   ]
  },
  {
   "cell_type": "code",
   "execution_count": null,
   "metadata": {},
   "outputs": [],
   "source": [
    "# make chloroplaeth\n",
    "all_df['label'] = clusters.labels_\n",
    "all_df['ZIP'] = all_df.index\n",
    "all_df['ZIP'] = all_df['ZIP'].astype(str)\n",
    "nyc_shp['ZIPCODE'] = nyc_shp['ZIPCODE'].astype(str)\n",
    "merged_df = pd.merge(nyc_shp, all_df, left_on='ZIPCODE', right_on='ZIP')\n",
    "merged_df.head()"
   ]
  },
  {
   "cell_type": "code",
   "execution_count": null,
   "metadata": {},
   "outputs": [],
   "source": [
    "cp.choroplethNYC(merged_df, column='label', color=\"white\", edgecolor=\"black\", lw=2)\n"
   ]
  },
  {
   "cell_type": "markdown",
   "metadata": {},
   "source": [
    "Figure 2:\n",
    "Chloropleth map displaying the 4 cluster k-mean cluster of the number of establishment over 1994-2014\n"
   ]
  },
  {
   "cell_type": "code",
   "execution_count": null,
   "metadata": {},
   "outputs": [],
   "source": [
    "# Now will use hierarchical  instead\n",
    "spec = cluster.SpectralClustering(n_clusters=4).fit(all_df)"
   ]
  },
  {
   "cell_type": "code",
   "execution_count": null,
   "metadata": {},
   "outputs": [],
   "source": [
    "spec.labels_"
   ]
  },
  {
   "cell_type": "code",
   "execution_count": null,
   "metadata": {},
   "outputs": [],
   "source": [
    "# make chloroplaeth for spectral clusters\n",
    "all_df['label'] = spec.labels_\n",
    "all_df['ZIP'] = all_df.index\n",
    "all_df['ZIP'] = all_df['ZIP'].astype(str)\n",
    "nyc_shp['ZIPCODE'] = nyc_shp['ZIPCODE'].astype(str)\n",
    "merged_df = pd.merge(nyc_shp, all_df, left_on='ZIPCODE', right_on='ZIP')\n",
    "merged_df.head()"
   ]
  },
  {
   "cell_type": "code",
   "execution_count": null,
   "metadata": {},
   "outputs": [],
   "source": [
    "cp.choroplethNYC(merged_df, column='label', color=\"white\", edgecolor=\"black\", lw=2)\n"
   ]
  },
  {
   "cell_type": "markdown",
   "metadata": {},
   "source": [
    "Figure 3:\n",
    "Chloropleth map displaying the 4 cluster spectral clustering of the number of establishment over 1994-2014\n"
   ]
  },
  {
   "cell_type": "markdown",
   "metadata": {},
   "source": [
    "From the 2 different types of clustering I have done here the main event that stand out to me over the period of 1994 to 2014 is the clustering of ZIP codes in outer Queens having a declining number of establishments.  Many of these ZIP codes are in the same clusters with each other for both the k-means and spectral clustering.  When plotting the center of this cluster for k-mean (Cluster 4), there is a a steady decline."
   ]
  },
  {
   "cell_type": "markdown",
   "metadata": {
    "collapsed": true
   },
   "source": [
    "Points - 8 - data not reproducible"
   ]
  },
  {
   "cell_type": "code",
   "execution_count": null,
   "metadata": {},
   "outputs": [],
   "source": []
  }
 ],
 "metadata": {
  "kernelspec": {
   "display_name": "PUI2016_Python3",
   "language": "python",
   "name": "pui2016_python3"
  },
  "language_info": {
   "codemirror_mode": {
    "name": "ipython",
    "version": 3
   },
   "file_extension": ".py",
   "mimetype": "text/x-python",
   "name": "python",
   "nbconvert_exporter": "python",
   "pygments_lexer": "ipython3",
   "version": "3.5.4"
  }
 },
 "nbformat": 4,
 "nbformat_minor": 2
}
